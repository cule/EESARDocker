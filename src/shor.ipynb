{
 "cells": [
  {
   "cell_type": "markdown",
   "metadata": {},
   "source": [
    "## The Shor Algorithm"
   ]
  },
  {
   "cell_type": "code",
   "execution_count": 31,
   "metadata": {},
   "outputs": [
    {
     "name": "stdout",
     "output_type": "stream",
     "text": [
      "1\n",
      "112\n",
      "17\n",
      "29\n"
     ]
    }
   ],
   "source": [
    "import numpy as np\n",
    "from math import gcd\n",
    "import time\n",
    "\n",
    "def f(x,a,N):\n",
    "    return a**x % N\n",
    "\n",
    "p = 17\n",
    "q = 29\n",
    "N = p*q\n",
    "a = 22\n",
    "print(gcd(N,a))\n",
    "\n",
    "table = np.array([f(x,a,N) for x in range(200)])\n",
    "r = np.where(table==1)[0][1]\n",
    "print(r)\n",
    "\n",
    "print(gcd(N,table[np.int(r/2)]+1))\n",
    "print(gcd(N,table[np.int(r/2)]-1))"
   ]
  },
  {
   "cell_type": "code",
   "execution_count": null,
   "metadata": {},
   "outputs": [],
   "source": []
  }
 ],
 "metadata": {
  "kernelspec": {
   "display_name": "Python 3",
   "language": "python",
   "name": "python3"
  },
  "language_info": {
   "codemirror_mode": {
    "name": "ipython",
    "version": 3
   },
   "file_extension": ".py",
   "mimetype": "text/x-python",
   "name": "python",
   "nbconvert_exporter": "python",
   "pygments_lexer": "ipython3",
   "version": "3.6.8"
  }
 },
 "nbformat": 4,
 "nbformat_minor": 2
}
