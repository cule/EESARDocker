{
 "cells": [
  {
   "cell_type": "markdown",
   "metadata": {},
   "source": [
    "# Detecting Changes in Sentinel-1 Imagery\n",
    "## Part 1. Single and multi-look image statistics\n",
    "\n",
    "Author: mortcanty\n",
    "\n",
    "Issue #210\n",
    "\n",
    "In this tutorial we will analyze Sentinel-1 imagery archived on the GEE in order to detect statistically significant changes over time. As the adverb \"statistically\" hints, we will need a basic understanding of the statistical properties of SAR imagery in order to proceed, and the adjective \"significant\" implies that we  learn the fundamentals of hypothesis testing. In particular we will be concerned with the dual polarimetric intensity images in the GEE archive. The tutorial is in three parts:\n",
    "\n",
    "- 1. Single and multi-look image statistics\n",
    "- 2. Hypothesis testing for change detection\n",
    "- 3. Applications\n",
    "\n",
    "## Context\n",
    "\n",
    "The Sentinel-1 missions of the ESA provide a fantastic source of weather-independent Earth observation data with repeat times of the order of 6 days. The Google Earth Engine team monitor and ingest the imagery data virtually as fast as they are produced, thus removing the burden from the user of searching, pre-processing and georeferencing. The JavaScript and Python API's to the GEE can then be easily programmed to analyze time series of Sentinel-1 acquisitions virtually anywhere on the globe. Detected changes, both short- and long-term can be related to landscape dynamics and human activity."
   ]
  },
  {
   "cell_type": "markdown",
   "metadata": {},
   "source": [
    "### Datasets\n",
    "Two datasets will be used in the tutorial:\n",
    "- COPERNICUS/S1_GRD_FLOAT\n",
    "  - Sentinel-1 ground range detected images\n",
    "- COPERNICUS/S1_GRD  \n",
    "  - Sentinel-1 ground range detected images converted to decibels\n",
    "\n",
    "First we import the GEE Python API, authenticate ourselves and initialize:"
   ]
  },
  {
   "cell_type": "code",
   "execution_count": 7,
   "metadata": {},
   "outputs": [],
   "source": [
    "import ee\n",
    "#ee.Authenticate()\n",
    "ee.Initialize()"
   ]
  },
  {
   "cell_type": "markdown",
   "metadata": {},
   "source": [
    "Next import a few Python modules and enable inline plotting."
   ]
  },
  {
   "cell_type": "code",
   "execution_count": 21,
   "metadata": {},
   "outputs": [],
   "source": [
    "import matplotlib.pyplot as plt\n",
    "import numpy as np\n",
    "from scipy.stats import gamma\n",
    "import IPython.display as disp\n",
    "from ipyleaflet import Map,TileLayer\n",
    "%matplotlib inline"
   ]
  },
  {
   "cell_type": "markdown",
   "metadata": {},
   "source": [
    "Let's start work by grabbing a spatial subset of a Sentinel-1 image from the archive and examining it. \n",
    "We'll define a region of interest (roi) as the long-lat corners of a rectangle over the Frankfurt Airport. A convenient way to do this is from the website http://geojson.io/#map=2/20.0/0.0, from which we can cut and paste the corresponding geoJSON description."
   ]
  },
  {
   "cell_type": "code",
   "execution_count": 9,
   "metadata": {},
   "outputs": [],
   "source": [
    "geoJSON = {\n",
    "  \"type\": \"FeatureCollection\",\n",
    "  \"features\": [\n",
    "    {\n",
    "      \"type\": \"Feature\",\n",
    "      \"properties\": {},\n",
    "      \"geometry\": {\n",
    "        \"type\": \"Polygon\",\n",
    "        \"coordinates\": [\n",
    "          [\n",
    "            [\n",
    "              8.473892211914062,\n",
    "              49.98081240937428\n",
    "            ],\n",
    "            [\n",
    "              8.658599853515625,\n",
    "              49.98081240937428\n",
    "            ],\n",
    "            [\n",
    "              8.658599853515625,\n",
    "              50.06066538593667\n",
    "            ],\n",
    "            [\n",
    "              8.473892211914062,\n",
    "              50.06066538593667\n",
    "            ],\n",
    "            [\n",
    "              8.473892211914062,\n",
    "              49.98081240937428\n",
    "            ]\n",
    "          ]\n",
    "        ]\n",
    "      }\n",
    "    }\n",
    "  ]\n",
    "}"
   ]
  },
  {
   "cell_type": "markdown",
   "metadata": {},
   "source": [
    "Note that the last and first corners are identical, indicating closure of the polynomial. We have to bore down into the geoJSON structure to get the geometry coordinates and then create an _ee.Geometry()_ object:"
   ]
  },
  {
   "cell_type": "code",
   "execution_count": 11,
   "metadata": {},
   "outputs": [],
   "source": [
    "coords = geoJSON['features'][0]['geometry']['coordinates']\n",
    "roi = ee.Geometry.Polygon(coords)"
   ]
  },
  {
   "cell_type": "markdown",
   "metadata": {},
   "source": [
    "Next, we filter the S1 archive to get an image over the roi acquired sometime in August, 2020. Any old image will do fine, so we won't bother to specify the orbit number or whether we want the ASCENDING or DESCENDING node. For convenience we grab both decibel and float versions:"
   ]
  },
  {
   "cell_type": "code",
   "execution_count": 12,
   "metadata": {},
   "outputs": [],
   "source": [
    "ffa_db = ee.Image( ee.ImageCollection('COPERNICUS/S1_GRD') \\\n",
    "                       .filterBounds(roi) \\\n",
    "                       .filterDate(ee.Date('2020-08-01'),ee.Date('2020-08-31')) \\\n",
    "                       .first() \\\n",
    "                       .clip(roi))\n",
    "ffa_fl = ee.Image( ee.ImageCollection('COPERNICUS/S1_GRD_FLOAT') \\\n",
    "                       .filterBounds(roi) \\\n",
    "                       .filterDate(ee.Date('2020-08-01'),ee.Date('2020-08-31')) \\\n",
    "                       .first() \\\n",
    "                       .clip(roi))"
   ]
  },
  {
   "cell_type": "markdown",
   "metadata": {},
   "source": [
    "Notice that we have clipped the images to our roi, so as not to work with the entire swath. To confirm that we have an image, we list its bandnames, fetching the result from the GEE servers with the _getInfo()_ class method:"
   ]
  },
  {
   "cell_type": "code",
   "execution_count": 13,
   "metadata": {},
   "outputs": [
    {
     "data": {
      "text/plain": [
       "['VV', 'VH', 'angle']"
      ]
     },
     "execution_count": 13,
     "metadata": {},
     "output_type": "execute_result"
    }
   ],
   "source": [
    "ffa_db.bandNames().getInfo()"
   ]
  },
  {
   "cell_type": "markdown",
   "metadata": {},
   "source": [
    "and display the VV band of the decibel version using the _getThumbURL()_ method and IPython's _display_ module. The float intensities $I$ are generally between 0 and 1, so we stretch the decibel image $10\\log_{10}(I)$, from $-20$ to $0$:"
   ]
  },
  {
   "cell_type": "code",
   "execution_count": 14,
   "metadata": {},
   "outputs": [
    {
     "data": {
      "text/html": [
       "<img src=\"https://earthengine.googleapis.com/v1alpha/projects/earthengine-legacy/thumbnails/9b1e00911714137fef835beabb7a6132-fd0f5032cbd76f2b664d7ac93a0a704d:getPixels\" width=\"800\" height=\"800\"/>"
      ],
      "text/plain": [
       "<IPython.core.display.Image object>"
      ]
     },
     "execution_count": 14,
     "metadata": {},
     "output_type": "execute_result"
    }
   ],
   "source": [
    "url = ffa_db.select('VV').getThumbURL({'min':-20,'max':0})\n",
    "disp.Image(url=url,width=800, height=800)"
   ]
  },
  {
   "cell_type": "markdown",
   "metadata": {},
   "source": [
    "This is fine, but a little boring. Let's mimic some of the functionality of the GEE code editor, projecting the image onto a slippy map with _ipyleaflet_ :"
   ]
  },
  {
   "cell_type": "code",
   "execution_count": 15,
   "metadata": {},
   "outputs": [
    {
     "data": {
      "application/vnd.jupyter.widget-view+json": {
       "model_id": "0aaf40836f114701a27e85c7b36b88cf",
       "version_major": 2,
       "version_minor": 0
      },
      "text/plain": [
       "Map(center=[50.02076448259734, 8.566246032714204], controls=(ZoomControl(options=['position', 'zoom_in_text', …"
      ]
     },
     "metadata": {},
     "output_type": "display_data"
    }
   ],
   "source": [
    "def GetTileLayerUrl(ee_image_object):\n",
    "    map_id = ee.Image(ee_image_object).getMapId()\n",
    "    return map_id[\"tile_fetcher\"].url_format\n",
    "\n",
    "# The ipyleaflet Map() requires latlong coodinates so the list is reversed\n",
    "center = roi.centroid().coordinates().getInfo()[::-1]\n",
    "m = Map(center=center, zoom=12)\n",
    "m.add_layer(\n",
    "    TileLayer(url=GetTileLayerUrl(ffa_db.select('VV').visualize(min=-20, max=0)))\n",
    ")\n",
    "m"
   ]
  },
  {
   "cell_type": "markdown",
   "metadata": {},
   "source": [
    "### Pixel distributions\n",
    "\n",
    "In order to examine the statistics of the pixels in this image empirically, we'll need pixels from a featureless (textureless) subset. Here is a polygon covering the triangular wooded area at the lower center:"
   ]
  },
  {
   "cell_type": "code",
   "execution_count": 16,
   "metadata": {},
   "outputs": [],
   "source": [
    "geoJSON = {\n",
    "  \"type\": \"FeatureCollection\",\n",
    "  \"features\": [\n",
    "    {\n",
    "      \"type\": \"Feature\",\n",
    "      \"properties\": {},\n",
    "      \"geometry\": {\n",
    "        \"type\": \"Polygon\",\n",
    "        \"coordinates\": [\n",
    "          [\n",
    "            [\n",
    "              8.534317016601562,\n",
    "              50.021637833966786\n",
    "            ],\n",
    "            [\n",
    "              8.530540466308594,\n",
    "              49.99780882512238\n",
    "            ],\n",
    "            [\n",
    "              8.564186096191406,\n",
    "              50.00663576154257\n",
    "            ],\n",
    "            [\n",
    "              8.578605651855469,\n",
    "              50.019431940583104\n",
    "            ],\n",
    "            [\n",
    "              8.534317016601562,\n",
    "              50.021637833966786\n",
    "            ]\n",
    "          ]\n",
    "        ]\n",
    "      }\n",
    "    }\n",
    "  ]\n",
    "}\n",
    "coords = geoJSON['features'][0]['geometry']['coordinates']\n",
    "roi_sub = ee.Geometry.Polygon(coords)"
   ]
  },
  {
   "cell_type": "markdown",
   "metadata": {},
   "source": [
    "Using standard reducers from the GEE library we can easily calculate a histogram and estimate the first two moments (mean and variance) of the pixels in the polygon _roi1_ , again retrieving the results from the servers with _getInfo()_ ."
   ]
  },
  {
   "cell_type": "code",
   "execution_count": 17,
   "metadata": {},
   "outputs": [],
   "source": [
    "hist = ffa_fl.select('VV').reduceRegion(ee.Reducer.fixedHistogram(0,0.5,500),roi_sub).get('VV').getInfo()\n",
    "mean = ffa_fl.select('VV').reduceRegion(ee.Reducer.mean(),roi_sub).get('VV').getInfo()\n",
    "variance = ffa_fl.select('VV').reduceRegion(ee.Reducer.variance(),roi_sub).get('VV').getInfo()"
   ]
  },
  {
   "cell_type": "markdown",
   "metadata": {},
   "source": [
    "Here is a plot of the (normalized) histogram using _numpy_ and _matplotlib_ :"
   ]
  },
  {
   "cell_type": "code",
   "execution_count": 18,
   "metadata": {},
   "outputs": [
    {
     "data": {
      "image/png": "[encoded data removed]",
      "text/plain": [
       "<Figure size 432x288 with 1 Axes>"
      ]
     },
     "metadata": {
      "needs_background": "light"
     },
     "output_type": "display_data"
    }
   ],
   "source": [
    "a = np.array(hist)\n",
    "x = a[:,0]\n",
    "y = a[:,1]/np.sum(a[:,1])\n",
    "plt.grid()\n",
    "plt.plot(x,y)\n",
    "plt.show()"
   ]
  },
  {
   "cell_type": "markdown",
   "metadata": {},
   "source": [
    "The above histogram is in fact a gamma probability density distribution \n",
    "\n",
    "$$\n",
    "p_\\gamma(x) = {1\\over \\beta^\\alpha\\Gamma(\\alpha)}x^{\\alpha-1}e^{-x/\\beta} \\tag{1.1}\n",
    "$$\n",
    "\n",
    "\n",
    "with parameters $\\alpha = 5$ and $\\beta = {\\mu}/\\alpha$, where $\\mu$ is the estimated mean value we just determined with GEE. We can easily verify this by plotting the gamma function with these parameters and overlaying it onto the histogram:"
   ]
  },
  {
   "cell_type": "code",
   "execution_count": 19,
   "metadata": {},
   "outputs": [
    {
     "data": {
      "image/png": "[encoded data removed]",
      "text/plain": [
       "<Figure size 432x288 with 1 Axes>"
      ]
     },
     "metadata": {
      "needs_background": "light"
     },
     "output_type": "display_data"
    }
   ],
   "source": [
    "alpha = 5\n",
    "beta = mean/alpha\n",
    "plt.grid()\n",
    "plt.plot(x,y)\n",
    "plt.plot(x, gamma.pdf(x, alpha, 0, beta)/1000, '-r')\n",
    "plt.show()"
   ]
  },
  {
   "cell_type": "markdown",
   "metadata": {},
   "source": [
    "In order to undersand just why this is the case, we have to take a step back and consider how the pixels were generated."
   ]
  },
  {
   "cell_type": "markdown",
   "metadata": {},
   "source": [
    "\n",
    "### Single look complex (SLC) SAR statistics\n",
    "The Sentinel-1 platform is a dual polarimteric SAR sensor system, emitting one polarization (vertical in most cases) and recording both vertical and horizontal reflected polarizations. This is represented mathematically as\n",
    "\n",
    "$$\n",
    "\\pmatrix{E_v^b\\cr E_h^b} = {e^{-{\\bf i}rk}\\over r}\\pmatrix{S_{vv} & S_{vh}\\cr S_{hv} & S_{hh}}\\pmatrix{E_v^i\\cr 0}. \\tag{1.2}\n",
    "$$\n",
    "\n",
    "The incident vertically polarized radar signal $\\pmatrix{E_v^i\\cr 0}$ is transformed by a complex _scattereing matrix_ $\\pmatrix{S_{vv} & S_{vh}\\cr S_{hv} & S_{hh}}$ into the backscattered signal $\\pmatrix{E_v^b\\cr E_h^b}$ having both vertical and horizontal polarization components. The exponent accounts for the phase shift due to the return distance $r$ from target to sensor, with wave number $k=2\\pi/\\lambda$. From measurement of the backscattered radiation at the sensor, two of the four complex scattering matrix elements can be derived. Written as a  vector, they are:\n",
    " \n",
    "$$\n",
    "S = \\pmatrix{S_{vv}\\cr S_{vh}}.          \\tag{1.3}\n",
    "$$\n",
    "\n",
    "We write the complex transpose of the vector $S$ as $S^\\dagger = (S_{vv}^*\\ S_{vh}^*)$, where the $*$ denotes complex conjugation. The inner product of $S$ with itself is the total received power (also referred to as the _span_ image)\n",
    "\n",
    "$$\n",
    "P2 = S^\\dagger S = (S_{vv}^*\\ S_{vh}^*)\\pmatrix{S_{vv}\\cr S_{vh}} = |S_{vv}|^2 + |S_{vh}|^2 \\tag{1.4}\n",
    "$$\n",
    "\n",
    "and the outer product is the (dual pol) _covariance matrix image_\n",
    "\n",
    "$$\n",
    "C2 = SS^\\dagger = \\pmatrix{S_{vv}\\cr S_{vh}}(S_{vv}^*\\ S_{vh}^*) = \\pmatrix{|S_{vv}|^2 & S_{vv}^*S_{vh} \\cr S_{vh}^*S_{vv} & |S_{vh}|^2}. \\tag{1.5}\n",
    "$$\n",
    "\n",
    "The diagonal elements are real numbers, the off-diagonal elements are complex conjugates of eachother and contain the relative phases of the $S_{vv}$ and $S_{vh}$ components. The off-diagonal elements are not available for S1 archived imagery on the GEE, so that if we nevertheless choose to represent the data in covariance matrix form, the matrix is diagonal: \n",
    "\n",
    "$$\n",
    "C2 = \\pmatrix{|S_{vv}|^2 & 0 \\cr 0 & |S_{vh}|^2}. \\tag{1.6}\n",
    "$$\n",
    "\n",
    "#### Speckle\n",
    "\n",
    "The most striking characteristic of SAR images, when compared to their visual/infrared\n",
    "counterparts, is the disconcerting _speckle_ effect which makes visual interpretation very\n",
    "difficult. Speckle gives the appearance of random noise, but\n",
    "it is actually a deterministic consequence of the coherent nature of the radar signal.\n",
    "\n",
    "For single polarization transmission and reception, e.g., vertical-vertical ($vv$), the received SLC signal can be modelled in the form\n",
    "\n",
    "$$\n",
    "S_{vv} = {|S^a_{vv}|\\over\\sqrt{n}}\\sum_{k=1}^n e^{{\\bf i}\\phi_k}, \\tag{1.7}\n",
    "$$\n",
    "\n",
    "where $|S^a_{vv}|$ is the overall amplitude characterizing the signal scattered from the  area covered by a single pixel, e.g., $10\\times 10\\ m^2$ for our S1 data,  with the phase set equal to zero for convenience. The effects of randomly distributed scatterers within the irradiated area, with dimensions  of the order of the incident wavelength (for C-band approx. 8 cm), add coherently and introduce a change in phase of the  received signal as indicated in the above equation. This effect varies from pixel to pixel and gives rise to _speckle_ in the intensities $|S_{vv}|^2$ that we actually work with when we analyze a Sentinel-1 VV band. \n",
    "\n",
    "If we expand Eq. (1.7) into its real and imaginary parts, we can understand it better:\n",
    "\n",
    "$$\n",
    "S_{vv} = {|S^a_{vv}|\\over\\sqrt{n}}\\sum_{k=1}^n e^{{\\bf i}\\phi_k} = {|S^a_{vv}|\\over\\sqrt{n}}\\left(\\sum_k\\cos\\phi_k + {\\bf i}\\sum_k\\sin\\phi_k\\right) =  {|S^a_{vv}|\\over\\sqrt{n}}(x + {\\bf i}y) \\tag{1.8}\n",
    "$$\n",
    "\n",
    "Because the phase shifts $\\phi_k$ are randomly and uniformly distributed, the variables $x$ and $y$ are sums of identically distributed cosine and sine terms respectively. The Central Limit Theorem of statistics then says that $x$ and $y$ will have a normal distribution with zero mean and variance $\\sigma^2 =n/2$ in the limit of large $n$. We can verify this with a simple piece of code in which we set $n=10000$:"
   ]
  },
  {
   "cell_type": "code",
   "execution_count": 12,
   "metadata": {},
   "outputs": [
    {
     "data": {
      "image/png": "[encoded data removed]",
      "text/plain": [
       "<Figure size 432x288 with 1 Axes>"
      ]
     },
     "metadata": {
      "needs_background": "light"
     },
     "output_type": "display_data"
    }
   ],
   "source": [
    "def X(n):\n",
    "    return np.sum(np.cos(4*np.pi*(np.random.rand(n)-0.5)))/np.sqrt(n/2)\n",
    "\n",
    "n= 10000\n",
    "Xs = [X(n) for i in range(10000)]\n",
    "y,x = np.histogram(Xs,50)\n",
    "plt.plot(x[:-1],y)\n",
    "plt.grid()\n",
    "plt.show()"
   ]
  },
  {
   "cell_type": "markdown",
   "metadata": {},
   "source": [
    "Furthermore, $x$ and $y$ are uncorrelated since, in the expression for covariance of $x$ and $y$, the sums of products of cosine and sine terms cancel to zero. This means that  $x + {\\bf i}y$, and hence the observed single look complex signal $S_{vv}$, has a __complex normal distribution__ .\n",
    "\n",
    "Now what about the pixels values in the Sentinel-1 VV intensity images? They are given by the square of the amplitude of $S_{vv}$,\n",
    "\n",
    "$$\n",
    "|S_{vv}|^2 = S_{vv}S^*_{vv} = {|S^a_{vv}|^2\\over n}(x^2+y^2). \\tag{1.9}\n",
    "$$\n",
    "\n",
    "We can write this in the form\n",
    "\n",
    "$$\n",
    "|S_{vv}|^2 =  {|S^a_{vv}|^2\\over n}{n\\over 2}\\left({x^2\\over n/2}+{y^2\\over n/2}\\right) = |S^a_{vv}|^2{u\\over 2}, \\tag{1.10}\n",
    "$$\n",
    "\n",
    "where \n",
    "\n",
    "$$\n",
    "u = \\left({x^2\\over n/2}+{y^2\\over n/2}\\right) \\tag{1.11}\n",
    "$$\n",
    "\n",
    "is the sum of the squares of two variables with independent standard normal distributions. Statistical theory then tells us that $u$ has a _chi-square distribution_ with two degrees of freedom, namely\n",
    "\n",
    "$$\n",
    "p_u(u) = {1\\over 2}e^{-u/2}. \\tag{1.12}\n",
    "$$\n",
    "\n",
    "To simplify the notation, let $s=|S_{vv}|^2 $ and  $a=|S^a_{vv}|^2$. Then from (1.10)\n",
    "\n",
    "$$\n",
    "s = a{u\\over 2} \\tag{1.13}\n",
    "$$\n",
    "\n",
    "To get the distribution $p_s(s)$ of the observed signal from the distribution of $u$, we apply the standard transformation formula\n",
    "\n",
    "$$\n",
    "p_s(s) = p_u(u)\\left|{du\\over ds}\\right| = {1\\over 2}e^{-u/2}{2\\over a} = {1\\over a} e^{-s/a}. \\tag{1.14}\n",
    "$$\n",
    "\n",
    "Compare this with the exponential probability distribution, which is given by\n",
    "\n",
    "$$\n",
    "p_{exp}(z) = {1\\over\\beta}e^{-z/\\beta} \\tag{1.15}\n",
    "$$\n",
    "\n",
    "and which has mean and variance $\\beta$. __We conclude that the measured intensity signal $s=|S_{vv}|^2$ has an exponential distribution with mean and variance equal to the underlying signal strength $a=|S^a_{vv}|^2$.__ \n",
    "\n"
   ]
  },
  {
   "cell_type": "markdown",
   "metadata": {},
   "source": [
    "### Multi-look SAR statistics\n",
    "\n",
    "Multi-look processing essentially corresponds to the averaging of neighborhood pixels with the objective\n",
    "of reducing speckle and compressing the data. In practice, the averaging is often not performed in the\n",
    "spatial domain, but rather in the frequency domain during range/azimuth compression of the received signal. \n",
    "\n",
    "Look averaging takes place at the cost of spatial resolution. The spatial resolution attainable with SAR satellite platforms  involves, among many other considerations, a compromise between azimuthal resolution and swath width, see https://elib.dlr.de/82313/ for a good discussion. In the Sentinel-1 _Interferometric Wide Swath_ acquisition mode, the pixels are about 20m $\\times$ 4m (azimuth $\\times$ range) in extent and the swath widths are about 250km. In the multi-looking procedure, five cells are incoherently averaged in the range direction to achieve $20m \\times 20m$ resolution. (Pixels ingested into the GEE are resampled to $10m\\times 10m$.) The averaging process, which we can symbolize using angular brackets as $\\langle |S_{vv}|^2 \\rangle$ or $\\langle |S_{vh}|^2 \\rangle$, has the desirable effect of reducing speckle (at the cost of range resolution) in the intensity images. We can see this as follows, first quoting a well-known Theorem in statistics:\n",
    "\n",
    "   - If the quantities $s_i,\\ i=1\\dots m,$ are independent and each have exponential distributions given by Eq. (1.14), then $x = \\sum_{i=1}^m s_i$ has the gamma distribution Eq. (1.1) with $\\alpha=m,\\ \\beta=a$. Its mean is $\\alpha\\beta =ma$ and its variance is $\\alpha\\beta^2 = ma^2.$\n",
    "\n",
    "Again with the notation $s=|S_{vv}|^2 $ and  $a=|S^a_{vv}|^2$, if intensity measurements $s$ are summed over $m$ looks to give $\\sum_{i=1}^m s_i$, then according to this Theorem  the sum (not the average!) will be gamma distributed with $\\alpha= m$ and $\\beta=a$, provided the $s_i$ are independent. The look-averaged image is\n",
    "\n",
    "$$\n",
    "\\langle s\\rangle = {1\\over m}\\sum_{i=1}^m s_i \\tag{1.16}\n",
    "$$\n",
    "\n",
    "and its mean value is\n",
    "\n",
    "$$\n",
    "{\\rm mean}(\\langle s\\rangle) = {1\\over m}\\sum_{i=1}^m {\\rm mean}(s_i) = {1\\over m}\\sum_{i=1}^m a = a. \\tag{1.17}\n",
    "$$\n",
    "\n",
    "Now we see that the histogram of the Sentinel-1 multi-look image $\\langle s\\rangle =\\langle |S_{vv}|^2 \\rangle$ that we generated above must follow a gamma distribution with the parameters \n",
    "\n",
    "$$\n",
    "\\alpha=m,\\quad \\beta' = {a\\over m} = {{\\rm mean}(\\langle s\\rangle)\\over m}, \\tag{1..18}\n",
    "$$\n",
    "\n",
    "as we demonstrated.\n",
    "\n",
    "The variance of $\\langle s\\rangle$ is given by\n",
    "\n",
    "$$\n",
    "{\\rm var}(\\langle s\\rangle) = {1\\over m^2}{\\rm var}(\\sum_{i=1}^m s_i)= {1\\over m^2}ma^2 = {a^2\\over m}. \\tag{1.19}\n",
    "$$\n",
    "\n",
    "where we have used the fact that the variance of the gamma distribution is $\\alpha\\beta'^2=ma^2$.\n",
    "\n",
    "In practice, the neighborhood pixel intensities contributing to the look average will not be completely independent, but correlated to some extent. This is accounted for by defining an _equivalent number of looks_\n",
    "(ENL) whose definition is motivated by Eq. (1.19), that is,\n",
    "\n",
    "$$\n",
    "{\\rm ENL} = {a^2\\over {\\rm var}(\\langle s\\rangle)} = {{\\rm mean}(\\langle s\\rangle)^2\\over {\\rm var}(\\langle s\\rangle)}.\\tag{1.20}\n",
    "$$\n",
    "\n",
    "In general it will be smaller than $m$. Let's see what we get for our airport image:"
   ]
  },
  {
   "cell_type": "code",
   "execution_count": 20,
   "metadata": {},
   "outputs": [
    {
     "data": {
      "text/plain": [
       "4.324058395540761"
      ]
     },
     "execution_count": 20,
     "metadata": {},
     "output_type": "execute_result"
    }
   ],
   "source": [
    "mean**2/variance"
   ]
  },
  {
   "cell_type": "markdown",
   "metadata": {},
   "source": [
    "The value given by the provider (ESA) for the COPERNICUS/S1_GRD_FLOAT imagery in the GEE archive is ENL = 4.4.\n",
    "\n",
    "In Part 2 of the Tutorial we will discuss statistical methods to detect changes in two or more S1 images."
   ]
  },
  {
   "cell_type": "code",
   "execution_count": null,
   "metadata": {},
   "outputs": [],
   "source": []
  }
 ],
 "metadata": {
  "kernelspec": {
   "display_name": "Python 3",
   "language": "python",
   "name": "python3"
  },
  "language_info": {
   "codemirror_mode": {
    "name": "ipython",
    "version": 3
   },
   "file_extension": ".py",
   "mimetype": "text/x-python",
   "name": "python",
   "nbconvert_exporter": "python",
   "pygments_lexer": "ipython3",
   "version": "3.6.8"
  }
 },
 "nbformat": 4,
 "nbformat_minor": 4
}
