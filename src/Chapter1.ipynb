{
 "cells": [
  {
   "cell_type": "markdown",
   "metadata": {},
   "source": [
    "# Notebook Examples for Chapter 1"
   ]
  },
  {
   "cell_type": "code",
   "execution_count": 1,
   "metadata": {},
   "outputs": [],
   "source": [
    "import warnings\n",
    "# these are innocuous but irritating\n",
    "warnings.filterwarnings(\"ignore\", message=\"numpy.dtype size changed\")\n",
    "warnings.filterwarnings(\"ignore\", message=\"numpy.ufunc size changed\")\n",
    "%matplotlib inline"
   ]
  },
  {
   "cell_type": "code",
   "execution_count": 6,
   "metadata": {},
   "outputs": [
    {
     "data": {
      "text/html": [
       "<img src=\"https://earthengine.googleapis.com/api/thumb?thumbid=d75d81120ebd7a19c120732b4c59a69b&token=e987166c7f42df2c1540080a43eca072\"/>"
      ],
      "text/plain": [
       "<IPython.core.display.Image object>"
      ]
     },
     "execution_count": 6,
     "metadata": {},
     "output_type": "execute_result"
    }
   ],
   "source": [
    "import IPython.display as disp\n",
    "import ee\n",
    "\n",
    "ee.Initialize()\n",
    "\n",
    "minlon = 6.31\n",
    "minlat = 50.83\n",
    "maxlon = 6.58\n",
    "maxlat = 50.95\n",
    "\n",
    "rect = ee.Geometry.Rectangle([minlon,minlat,maxlon,maxlat])\n",
    "collection = ee.ImageCollection('COPERNICUS/S1_GRD') \\\n",
    "  .filterBounds(rect) \\\n",
    "  .filterDate(ee.Date('2017-05-01'), ee.Date('2017-06-01')) \\\n",
    "  .filter(ee.Filter.eq('transmitterReceiverPolarisation', ['VV','VH'])) \\\n",
    "  .filter(ee.Filter.eq('resolution_meters', 10)) \\\n",
    "  .filter(ee.Filter.eq('instrumentMode', 'IW')) \n",
    "    \n",
    "image = ee.Image(collection.first()).clip(rect)                        \n",
    "url = image.select('VV').getThumbURL({'min':-20,'max':0})\n",
    "disp.Image(url=url)"
   ]
  },
  {
   "cell_type": "code",
   "execution_count": 3,
   "metadata": {},
   "outputs": [
    {
     "ename": "AttributeError",
     "evalue": "'NoneType' object has no attribute 'RasterXSize'",
     "output_type": "error",
     "traceback": [
      "\u001b[0;31m---------------------------------------------------------------------------\u001b[0m",
      "\u001b[0;31mAttributeError\u001b[0m                            Traceback (most recent call last)",
      "\u001b[0;32m/home/mort/python/EESARDocker/src/scripts/ex1_1.py\u001b[0m in \u001b[0;36m<module>\u001b[0;34m()\u001b[0m\n\u001b[1;32m     30\u001b[0m     \u001b[0minfile\u001b[0m \u001b[0;34m=\u001b[0m \u001b[0msys\u001b[0m\u001b[0;34m.\u001b[0m\u001b[0margv\u001b[0m\u001b[0;34m[\u001b[0m\u001b[0;36m1\u001b[0m\u001b[0;34m]\u001b[0m\u001b[0;34m\u001b[0m\u001b[0m\n\u001b[1;32m     31\u001b[0m     \u001b[0mbandnumber\u001b[0m \u001b[0;34m=\u001b[0m \u001b[0mint\u001b[0m\u001b[0;34m(\u001b[0m\u001b[0msys\u001b[0m\u001b[0;34m.\u001b[0m\u001b[0margv\u001b[0m\u001b[0;34m[\u001b[0m\u001b[0;36m2\u001b[0m\u001b[0;34m]\u001b[0m\u001b[0;34m)\u001b[0m\u001b[0;34m\u001b[0m\u001b[0m\n\u001b[0;32m---> 32\u001b[0;31m     \u001b[0mdisp\u001b[0m\u001b[0;34m(\u001b[0m\u001b[0minfile\u001b[0m\u001b[0;34m,\u001b[0m\u001b[0mbandnumber\u001b[0m\u001b[0;34m)\u001b[0m\u001b[0;34m\u001b[0m\u001b[0m\n\u001b[0m",
      "\u001b[0;32m/home/mort/python/EESARDocker/src/scripts/ex1_1.py\u001b[0m in \u001b[0;36mdisp\u001b[0;34m(infile, bandnumber)\u001b[0m\n\u001b[1;32m     10\u001b[0m     \u001b[0mgdal\u001b[0m\u001b[0;34m.\u001b[0m\u001b[0mAllRegister\u001b[0m\u001b[0;34m(\u001b[0m\u001b[0;34m)\u001b[0m\u001b[0;34m\u001b[0m\u001b[0m\n\u001b[1;32m     11\u001b[0m     \u001b[0minDataset\u001b[0m \u001b[0;34m=\u001b[0m \u001b[0mgdal\u001b[0m\u001b[0;34m.\u001b[0m\u001b[0mOpen\u001b[0m\u001b[0;34m(\u001b[0m\u001b[0minfile\u001b[0m\u001b[0;34m,\u001b[0m\u001b[0mGA_ReadOnly\u001b[0m\u001b[0;34m)\u001b[0m\u001b[0;34m\u001b[0m\u001b[0m\n\u001b[0;32m---> 12\u001b[0;31m     \u001b[0mcols\u001b[0m \u001b[0;34m=\u001b[0m \u001b[0minDataset\u001b[0m\u001b[0;34m.\u001b[0m\u001b[0mRasterXSize\u001b[0m\u001b[0;34m\u001b[0m\u001b[0m\n\u001b[0m\u001b[1;32m     13\u001b[0m     \u001b[0mrows\u001b[0m \u001b[0;34m=\u001b[0m \u001b[0minDataset\u001b[0m\u001b[0;34m.\u001b[0m\u001b[0mRasterYSize\u001b[0m\u001b[0;34m\u001b[0m\u001b[0m\n\u001b[1;32m     14\u001b[0m     \u001b[0mbands\u001b[0m \u001b[0;34m=\u001b[0m \u001b[0minDataset\u001b[0m\u001b[0;34m.\u001b[0m\u001b[0mRasterCount\u001b[0m\u001b[0;34m\u001b[0m\u001b[0m\n",
      "\u001b[0;31mAttributeError\u001b[0m: 'NoneType' object has no attribute 'RasterXSize'"
     ]
    }
   ],
   "source": [
    "run scripts/ex1_1 imagery/AST_20070501 3"
   ]
  },
  {
   "cell_type": "markdown",
   "metadata": {},
   "source": [
    "### Covariance matrix of a multispectral image"
   ]
  },
  {
   "cell_type": "code",
   "execution_count": 8,
   "metadata": {},
   "outputs": [
    {
     "name": "stdout",
     "output_type": "stream",
     "text": [
      "[[ 407.13229638  442.18038527  -78.32374081]\n",
      " [ 442.18038527  493.57036427 -120.64197555]\n",
      " [ -78.32374081 -120.64197555  438.95704379]]\n"
     ]
    }
   ],
   "source": [
    "from osgeo import gdal\n",
    "from osgeo.gdalconst import GA_ReadOnly\n",
    "\n",
    "gdal.AllRegister()\n",
    "infile = 'imagery/AST_20070501'                \n",
    "inDataset = gdal.Open(infile,GA_ReadOnly)     \n",
    "cols = inDataset.RasterXSize\n",
    "rows = inDataset.RasterYSize    \n",
    "\n",
    "#  data matrix\n",
    "G = np.zeros((rows*cols,3))                                   \n",
    "for b in range(3):\n",
    "    band = inDataset.GetRasterBand(b+1)\n",
    "    tmp = band.ReadAsArray(0,0,cols,rows).ravel()\n",
    "    G[:,b] = tmp - np.mean(tmp)\n",
    "    \n",
    "#  covariance matrix\n",
    "C = np.mat(G).T*np.mat(G)/(cols*rows-1)  \n",
    "print C  "
   ]
  },
  {
   "cell_type": "markdown",
   "metadata": {},
   "source": [
    "### Eigenvalues and eigenvectors of the covariance matrix"
   ]
  },
  {
   "cell_type": "code",
   "execution_count": 9,
   "metadata": {},
   "outputs": [
    {
     "name": "stdout",
     "output_type": "stream",
     "text": [
      "[  4.77425683 399.58595201 935.2994956 ]\n",
      "[[-0.73352328  0.22653637 -0.64080018]\n",
      " [ 0.67736254  0.16613156 -0.71664517]\n",
      " [ 0.05588906  0.95972995  0.27530862]]\n"
     ]
    }
   ],
   "source": [
    "eigenvalues, eigenvectors = np.linalg.eigh(C)\n",
    "print eigenvalues\n",
    "print eigenvectors"
   ]
  },
  {
   "cell_type": "code",
   "execution_count": 10,
   "metadata": {},
   "outputs": [
    {
     "name": "stdout",
     "output_type": "stream",
     "text": [
      "[[ 1.00000000e+00 -5.58769947e-17  6.67125714e-16]\n",
      " [-5.58769947e-17  1.00000000e+00  7.62399525e-18]\n",
      " [ 6.67125714e-16  7.62399525e-18  1.00000000e+00]]\n"
     ]
    }
   ],
   "source": [
    "U = eigenvectors\n",
    "print U.T*U"
   ]
  },
  {
   "cell_type": "markdown",
   "metadata": {},
   "source": [
    "### Singular value decomposition"
   ]
  },
  {
   "cell_type": "code",
   "execution_count": 11,
   "metadata": {},
   "outputs": [
    {
     "name": "stdout",
     "output_type": "stream",
     "text": [
      "determinant: -0.000005\n",
      "Lambda = [2.80018439e+01 1.07456732e-03 1.53633140e-04]\n",
      "U = [[-0.26732657 -0.66950267 -0.69303873]\n",
      " [-0.5345285  -0.49538344  0.68474413]\n",
      " [-0.80175794  0.55349925 -0.2254391 ]]\n",
      "V = [[-0.26732657 -0.5345285  -0.80175794]\n",
      " [-0.66950267 -0.49538344  0.55349925]\n",
      " [ 0.69303873 -0.68474413  0.2254391 ]]\n"
     ]
    }
   ],
   "source": [
    "import numpy as np\n",
    "b = np.mat([1,2,3])\n",
    "# an almost singular matrix\n",
    "A = b.T*b + np.random.rand(3,3)*0.001\n",
    "# a symmetric almost singular matrix\n",
    "A = A + A.T\n",
    "print 'determinant: %f'%np.linalg.det(A)\n",
    "# singular value decomposition\n",
    "U,Lambda,V = np.linalg.svd(A)\n",
    "print 'Lambda = %s'%str(Lambda)\n",
    "print 'U = %s'%str(U)\n",
    "print 'V = %s'%str(V)"
   ]
  },
  {
   "cell_type": "markdown",
   "metadata": {},
   "source": [
    "### Principal components analysis"
   ]
  },
  {
   "cell_type": "code",
   "execution_count": 12,
   "metadata": {},
   "outputs": [],
   "source": [
    "run scripts/ex1_2 imagery/AST_20070501 imagery/pca.tif"
   ]
  },
  {
   "cell_type": "code",
   "execution_count": null,
   "metadata": {},
   "outputs": [],
   "source": [
    "run scripts/dispms -f 'imagery/pca.tif' -p [1,2,3] -e 4"
   ]
  }
 ],
 "metadata": {
  "kernelspec": {
   "display_name": "Python 2",
   "language": "python",
   "name": "python2"
  },
  "language_info": {
   "codemirror_mode": {
    "name": "ipython",
    "version": 2
   },
   "file_extension": ".py",
   "mimetype": "text/x-python",
   "name": "python",
   "nbconvert_exporter": "python",
   "pygments_lexer": "ipython2",
   "version": "2.7.15rc1"
  }
 },
 "nbformat": 4,
 "nbformat_minor": 2
}
