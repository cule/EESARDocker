{
 "cells": [
  {
   "cell_type": "code",
   "execution_count": 1,
   "metadata": {},
   "outputs": [],
   "source": [
    "from IPython.display import display\n",
    "from ipyleaflet import (Map,DrawControl,TileLayer,\n",
    "                        basemaps,basemap_to_tiles,\n",
    "                        LayersControl,\n",
    "                        MeasureControl,\n",
    "                        FullScreenControl,\n",
    "                        WidgetControl,\n",
    "                        SplitMapControl)"
   ]
  },
  {
   "cell_type": "code",
   "execution_count": 5,
   "metadata": {},
   "outputs": [
    {
     "data": {
      "application/vnd.jupyter.widget-view+json": {
       "model_id": "00ee076cdcb9401cb035d831497821c3",
       "version_major": 2,
       "version_minor": 0
      },
      "text/plain": [
       "Map(center=[0.0, 0.0], controls=(ZoomControl(options=['position', 'zoom_in_text', 'zoom_in_title', 'zoom_out_t…"
      ]
     },
     "metadata": {},
     "output_type": "display_data"
    }
   ],
   "source": [
    "\n",
    "def handle_draw(self, action, geo_json):\n",
    "    global poly\n",
    "    if action == 'created':\n",
    "        coords =  geo_json['geometry']['coordinates']\n",
    "        poly = ee.Geometry.Polygon(coords)\n",
    "        w_preview.disabled = True\n",
    "        w_export_ass.disabled = True\n",
    "m = Map(zoom=1)\n",
    "dc = DrawControl(polyline={},circlemarker={})\n",
    "dc.rectangle = {\"shapeOptions\": {\"fillColor\": \"#0000ff\",\"color\": \"#0000ff\",\"fillOpacity\": 0.1}}\n",
    "dc.polygon = {\"shapeOptions\": {\"fillColor\": \"#0000ff\",\"color\": \"#0000ff\",\"fillOpacity\": 0.1}}\n",
    "dc.on_draw(handle_draw)\n",
    "osm = basemap_to_tiles(basemaps.OpenStreetMap.HOT)\n",
    "ewi = basemap_to_tiles(basemaps.Esri.WorldImagery)\n",
    "sm = SplitMapControl(left_layer=osm,right_layer=ewi)\n",
    "m.add_control(sm)\n",
    "m.add_control(dc)\n",
    "m"
   ]
  },
  {
   "cell_type": "code",
   "execution_count": null,
   "metadata": {},
   "outputs": [],
   "source": []
  }
 ],
 "metadata": {
  "kernelspec": {
   "display_name": "Python 3",
   "language": "python",
   "name": "python3"
  },
  "language_info": {
   "codemirror_mode": {
    "name": "ipython",
    "version": 3
   },
   "file_extension": ".py",
   "mimetype": "text/x-python",
   "name": "python",
   "nbconvert_exporter": "python",
   "pygments_lexer": "ipython3",
   "version": "3.6.8"
  }
 },
 "nbformat": 4,
 "nbformat_minor": 2
}
