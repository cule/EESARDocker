{
 "cells": [
  {
   "cell_type": "code",
   "execution_count": 1,
   "metadata": {},
   "outputs": [
    {
     "name": "stdout",
     "output_type": "stream",
     "text": [
      "\u001b[0m\u001b[01;34mauxil\u001b[0m/            Dockerfile               interface.ipynb   token.pickle\r\n",
      "\u001b[01;34mbuild\u001b[0m/            Dockerfile-rpi           MANIFEST          Untitled1.ipynb\r\n",
      "Chapter1.ipynb    drive-api-example.ipynb  notebook.sh       Untitled.ipynb\r\n",
      "credentials.json  eesardocs.ipynb          requirements.txt\r\n",
      "\u001b[01;34mdist\u001b[0m/             \u001b[01;36mimagery\u001b[0m@                 setup.py\r\n"
     ]
    }
   ],
   "source": [
    "ls"
   ]
  },
  {
   "cell_type": "code",
   "execution_count": 3,
   "metadata": {},
   "outputs": [
    {
     "name": "stdout",
     "output_type": "stream",
     "text": [
      "\u001b[0m\u001b[01;34m.\u001b[0m/   \u001b[01;34mS1A_IW_SLC__1SDV_20190125T171628_20190125T171656_025637_02D8B7_FF73.SAFE\u001b[0m/\r\n",
      "\u001b[01;34m..\u001b[0m/  \u001b[01;31mS1A_IW_SLC__1SDV_20190125T171628_20190125T171656_025637_02D8B7_FF73.zip\u001b[0m\r\n"
     ]
    }
   ],
   "source": [
    "ls -a imagery/"
   ]
  },
  {
   "cell_type": "code",
   "execution_count": null,
   "metadata": {},
   "outputs": [],
   "source": []
  }
 ],
 "metadata": {
  "kernelspec": {
   "display_name": "Python 2",
   "language": "python",
   "name": "python2"
  },
  "language_info": {
   "codemirror_mode": {
    "name": "ipython",
    "version": 2
   },
   "file_extension": ".py",
   "mimetype": "text/x-python",
   "name": "python",
   "nbconvert_exporter": "python",
   "pygments_lexer": "ipython2",
   "version": "2.7.15rc1"
  }
 },
 "nbformat": 4,
 "nbformat_minor": 2
}
