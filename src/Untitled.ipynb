{
 "cells": [
  {
   "cell_type": "code",
   "execution_count": 4,
   "metadata": {},
   "outputs": [
    {
     "name": "stdout",
     "output_type": "stream",
     "text": [
      "Exporting labeled bmap to EarthEngineImages/labeled_bmap\n",
      " task id: E4RNEJLUTCEAG7PWJ2I5LI2Q\n"
     ]
    }
   ],
   "source": [
    "import ee\n",
    "ee.Initialize()\n",
    "drexport = ee.batch.Export.image.toDrive(ee.Image('users/mortcanty/labeled_bmap'),\n",
    "                  description='driveExportTask', \n",
    "                  folder = 'EarthEngineImages',\n",
    "                  fileNamePrefix='labeled_bmap',fileFormat='TFRecord',scale=10,maxPixels=1e9)\n",
    "print('Exporting labeled bmap to %s\\n task id: %s'%('EarthEngineImages/labeled_bmap',str(drexport.id)))\n",
    "drexport.start()"
   ]
  },
  {
   "cell_type": "code",
   "execution_count": null,
   "metadata": {},
   "outputs": [],
   "source": []
  }
 ],
 "metadata": {
  "kernelspec": {
   "display_name": "Python 3",
   "language": "python",
   "name": "python3"
  },
  "language_info": {
   "codemirror_mode": {
    "name": "ipython",
    "version": 3
   },
   "file_extension": ".py",
   "mimetype": "text/x-python",
   "name": "python",
   "nbconvert_exporter": "python",
   "pygments_lexer": "ipython3",
   "version": "3.6.8"
  }
 },
 "nbformat": 4,
 "nbformat_minor": 2
}
