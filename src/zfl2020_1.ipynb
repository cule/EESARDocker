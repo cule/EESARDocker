{
 "cells": [
  {
   "cell_type": "markdown",
   "metadata": {},
   "source": [
    "# Google Earth Engine, Machine Learning  and Multitemporal Sentinel-1 Processing\n",
    "##  ZFL Short Course, April 2020\n",
    "# Part 1. The GEE"
   ]
  },
  {
   "cell_type": "markdown",
   "metadata": {},
   "source": [
    "## Four ways to access and program the GEE\n",
    "\n",
    "### 1. Work entirely in the code editor with the JavaScript API\n",
    "https://code.earthengine.google.com/  \n",
    "\n",
    "### 2. Work with the Python API on the Web (Colab)\n",
    "https://colab.research.google.com/notebooks/welcome.ipynb\n",
    "\n",
    "### 3. Work with the Python API locally (conda)\n",
    "https://developers.google.com/earth-engine/python_install-conda.html\n",
    "\n",
    "### 4. Use my Docker container for this course (Jupyter Notebooks)\n",
    "https://github.com/mortcanty/EESARDocker\n",
    "\n"
   ]
  },
  {
   "cell_type": "markdown",
   "metadata": {},
   "source": [
    "## Why not use Colab?\n",
    "### Answer: Can't import my auxil package (without putting it in PyPI).  Can't run external Python scripts\n",
    "## Why not use conda?\n",
    "### You can if you like. Good luck!\n",
    "## Why not use Jupyterlab?\n",
    "### Answer: Jupyter widgets, ipyleaflet"
   ]
  },
  {
   "cell_type": "markdown",
   "metadata": {},
   "source": [
    "## The Python API on a Jupyter Notebook Served from a Docker Container\n",
    "\n",
    "### docker run -d -p 8888:8888 --name=eesar mort/eesardocker\n",
    "### Point your browser to localhost:8888\n",
    "### Open a terminal window and authenticate\n",
    "\n"
   ]
  },
  {
   "cell_type": "markdown",
   "metadata": {},
   "source": [
    "### The command line interface"
   ]
  },
  {
   "cell_type": "code",
   "execution_count": null,
   "metadata": {},
   "outputs": [],
   "source": [
    "!earthengine"
   ]
  },
  {
   "cell_type": "markdown",
   "metadata": {},
   "source": [
    "### Enable inline graphics"
   ]
  },
  {
   "cell_type": "code",
   "execution_count": 1,
   "metadata": {},
   "outputs": [],
   "source": [
    "%matplotlib inline"
   ]
  },
  {
   "cell_type": "markdown",
   "metadata": {},
   "source": [
    "### Accessing the data catalogue"
   ]
  },
  {
   "cell_type": "code",
   "execution_count": 2,
   "metadata": {},
   "outputs": [
    {
     "name": "stdout",
     "output_type": "stream",
     "text": [
      "system id: COPERNICUS/S1_GRD/S1A_IW_GRDH_1SDV_20160504T171539_20160504T171604_011112_010BED_80AF\n",
      "acquisition time: Wed May  4 17:15:39 2016\n",
      "projection: EPSG:32632\n"
     ]
    }
   ],
   "source": [
    "import ee, time\n",
    "\n",
    "ee.Initialize()\n",
    "\n",
    "try:\n",
    "    point = ee.Geometry.Point([8.5,50.0]) \n",
    "    start = ee.Date('2016-05-01')\n",
    "    finish = ee.Date('2016-08-01')    \n",
    "    collection = ee.ImageCollection('COPERNICUS/S1_GRD') \\\n",
    "                .filterBounds(point) \\\n",
    "                .filterDate(start, finish) \\\n",
    "                .filter(ee.Filter.eq('transmitterReceiverPolarisation', ['VV','VH'])) \\\n",
    "                .filter(ee.Filter.eq('resolution_meters', 10)) \\\n",
    "                .filter(ee.Filter.eq('instrumentMode', 'IW')) \\\n",
    "                .filter(ee.Filter.eq('orbitProperties_pass', 'ASCENDING'))\n",
    "    count = collection.size().getInfo()\n",
    "    if count==0:\n",
    "        raise ValueError('No images found')   \n",
    "    image = collection.first()\n",
    "    timestamp = ee.Date(image.get('system:time_start')).getInfo()\n",
    "    timestamp = time.gmtime(int(timestamp['value'])/1000)\n",
    "    timestamp = time.strftime('%c', timestamp) \n",
    "    systemid = image.get('system:id').getInfo()\n",
    "    projection = image.select(0).projection().getInfo()['crs']    \n",
    "    print('system id: %s'%systemid)\n",
    "    print('acquisition time: %s'%timestamp)\n",
    "    print('projection: %s'%projection)\n",
    "except Exception as e:\n",
    "    print('An error occurred: %s'%e)"
   ]
  },
  {
   "cell_type": "markdown",
   "metadata": {},
   "source": [
    "### Exporting data"
   ]
  },
  {
   "cell_type": "code",
   "execution_count": null,
   "metadata": {},
   "outputs": [],
   "source": [
    "maxLat = 50.06526459341422\n",
    "minLon = 8.477334975832491\n",
    "minLat = 50.01013697421883\n",
    "maxLon = 8.633890151613743\n",
    "rect = ee.Geometry.Rectangle(minLon,minLat,maxLon,maxLat)\n",
    "exportname = 'users/mortcanty/'+systemid.replace('/','-')\n",
    "assexport = ee.batch.Export.image.toAsset(image.clip(rect).select('B2','B3','B4','B8'),\n",
    "                                          description='assetExportTask', \n",
    "                                          assetId=exportname,scale=10,maxPixels=1e9)\n",
    "assexportid = str(assexport.id)\n",
    "print('****Exporting to Assets, task id: %s '%assexportid)\n",
    "assexport.start() "
   ]
  },
  {
   "cell_type": "markdown",
   "metadata": {},
   "source": [
    "## Programming the GEE"
   ]
  },
  {
   "cell_type": "markdown",
   "metadata": {},
   "source": [
    "### Mapping"
   ]
  },
  {
   "cell_type": "code",
   "execution_count": null,
   "metadata": {},
   "outputs": [],
   "source": [
    "alist = ee.List([1,2,3,4])\n",
    "\n",
    "def squareit(x):\n",
    "    x = ee.Number(x)\n",
    "    return x.multiply(x)\n",
    "\n",
    "squaredlist = alist.map(squareit)\n",
    "print(squaredlist.getInfo())"
   ]
  },
  {
   "cell_type": "markdown",
   "metadata": {},
   "source": [
    "### Iteration"
   ]
  },
  {
   "cell_type": "code",
   "execution_count": null,
   "metadata": {},
   "outputs": [],
   "source": [
    "# Pure Python\n",
    "sum = 0\n",
    "for i in range(10):\n",
    "    sum += i\n",
    "print(sum)"
   ]
  },
  {
   "cell_type": "code",
   "execution_count": 9,
   "metadata": {},
   "outputs": [
    {
     "name": "stdout",
     "output_type": "stream",
     "text": [
      "45\n"
     ]
    }
   ],
   "source": [
    "# numpy\n",
    "import numpy as np\n",
    "\n",
    "print(np.sum(range(10)))"
   ]
  },
  {
   "cell_type": "code",
   "execution_count": 5,
   "metadata": {},
   "outputs": [
    {
     "name": "stdout",
     "output_type": "stream",
     "text": [
      "45.0\n"
     ]
    }
   ],
   "source": [
    "# ee Python API\n",
    "def sum(current,prev):\n",
    "    prev = ee.Number(prev)\n",
    "    return prev.add(current)\n",
    "\n",
    "seq = ee.List.sequence(0,9)\n",
    "first = ee.Number(0)\n",
    "result = seq.iterate(sum,first)\n",
    "print(result.getInfo())"
   ]
  },
  {
   "cell_type": "markdown",
   "metadata": {},
   "source": [
    "### Reducers"
   ]
  },
  {
   "cell_type": "code",
   "execution_count": 6,
   "metadata": {},
   "outputs": [
    {
     "data": {
      "text/plain": [
       "45.0"
      ]
     },
     "execution_count": 6,
     "metadata": {},
     "output_type": "execute_result"
    }
   ],
   "source": [
    "seq.reduce(ee.Reducer.sum()).getInfo()"
   ]
  },
  {
   "cell_type": "code",
   "execution_count": 10,
   "metadata": {},
   "outputs": [
    {
     "name": "stdout",
     "output_type": "stream",
     "text": [
      "{'elevation': 4371}\n"
     ]
    }
   ],
   "source": [
    "# Image.reduceRegion example\n",
    "#\n",
    "# Computes a simple reduction over a region of an image.  A reduction\n",
    "# is any process that takes an arbitrary number of inputs (such as\n",
    "# all the pixels of an image in a given region) and computes one or\n",
    "# more fixed outputs.  The result is a dictionary that contains the\n",
    "# computed values, which in this example is the maximum pixel value\n",
    "# in the region.\n",
    "#\n",
    "# This example shows how to print the resulting dictionary to the\n",
    "# console, which is useful when developing and debugging your\n",
    "# scripts, but in a larger workflow you might instead use the\n",
    "# Dicitionary.get() function to extract the values print np.max(band1)you need from the\n",
    "# dictionary for use as inputs to other functions.\n",
    "\n",
    "# The input image to reduce, in this case an SRTM elevation map.\n",
    "image = ee.Image('srtm90_v4')\n",
    "\n",
    "# The region to reduce within.\n",
    "poly = ee.Geometry.Rectangle(-109.05, 41, -102.05, 37)\n",
    "\n",
    "# Reduce the image within the given region, using a reducer that\n",
    "# computes the max pixel value.  We also specify the spatial\n",
    "# resolution at which to perform the computation, in this case 200\n",
    "# meters.\n",
    "max = image.reduceRegion(ee.Reducer.max(), poly, 200)\n",
    "\n",
    "# Print the result to the console.\n",
    "print(max.getInfo())\n"
   ]
  },
  {
   "cell_type": "markdown",
   "metadata": {},
   "source": [
    "## Ipyleaflet\n",
    "\n",
    "### In Python, we don't have the benefit of the GEE Payground (code editor) so we need an ersatz"
   ]
  },
  {
   "cell_type": "code",
   "execution_count": 1,
   "metadata": {},
   "outputs": [
    {
     "data": {
      "application/vnd.jupyter.widget-view+json": {
       "model_id": "25982ece5d394805a20353de39bb9665",
       "version_major": 2,
       "version_minor": 0
      },
      "text/plain": [
       "Map(basemap={'url': 'https://{s}.tile.openstreetmap.org/{z}/{x}/{y}.png', 'max_zoom': 19, 'attribution': 'Map …"
      ]
     },
     "metadata": {},
     "output_type": "display_data"
    }
   ],
   "source": [
    "from ipyleaflet import Map, GeoJSON, TileLayer\n",
    "import json\n",
    "import os\n",
    "import requests\n",
    "import ee\n",
    "\n",
    "ee.Initialize()\n",
    "\n",
    "def GetTileLayerUrl(ee_image_object):\n",
    "    map_id = ee.Image(ee_image_object).getMapId()\n",
    "    tile_url_template = \"https://earthengine.googleapis.com/map/{mapid}/{{z}}/{{x}}/{{y}}?token={token}\"\n",
    "    return tile_url_template.format(**map_id)\n",
    "\n",
    "if not os.path.exists('europe_110.geo.json'):\n",
    "  url = 'https://github.com/jupyter-widgets/ipyleaflet/raw/master/examples/europe_110.geo.json'\n",
    "  r = requests.get(url)\n",
    "  with open('europe_110.geo.json', 'w') as f:\n",
    "    f.write(r.content.decode(\"utf-8\"))\n",
    "\n",
    "m = Map(center=(50.6252978589571, 0.34580993652344), zoom=3)\n",
    "m"
   ]
  },
  {
   "cell_type": "code",
   "execution_count": 2,
   "metadata": {},
   "outputs": [],
   "source": [
    "with open('europe_110.geo.json', 'r') as f:\n",
    "  data = json.load(f)\n",
    "geo_json = GeoJSON(data=data, style = {'color': 'green', 'opacity':1, 'weight':1.9, 'dashArray':'9', 'fillOpacity':0.1})\n",
    "m.add_layer(geo_json)"
   ]
  },
  {
   "cell_type": "code",
   "execution_count": 3,
   "metadata": {},
   "outputs": [],
   "source": [
    "rect = ee.Geometry.Rectangle( [5.9985351562500009, 50.938486572440667, 6.0946655273437509, 50.973953836311068])\n",
    "avimg = ee.ImageCollection('COPERNICUS/S1_GRD') \\\n",
    "                        .filterBounds(rect) \\\n",
    "                        .filterDate(ee.Date('2018-04-01'), ee.Date('2018-09-01')) \\\n",
    "                        .filter(ee.Filter.eq('transmitterReceiverPolarisation', ['VV','VH'])) \\\n",
    "                        .filter(ee.Filter.eq('resolution_meters', 10)) \\\n",
    "                        .filter(ee.Filter.eq('instrumentMode', 'IW')) \\\n",
    "                        .filter(ee.Filter.eq('orbitProperties_pass', 'ASCENDING')) \\\n",
    "                        .sort('system:time_start') \\\n",
    "                        .mean() \\\n",
    "                        .select(0) \\\n",
    "                        .visualize(min=-15,max=1)\n",
    "m.add_layer(TileLayer(url=GetTileLayerUrl(avimg)))"
   ]
  },
  {
   "cell_type": "markdown",
   "metadata": {},
   "source": [
    "# Part 2. Polarimetric SAR "
   ]
  },
  {
   "cell_type": "markdown",
   "metadata": {},
   "source": [
    "#### Vector and matrix representations\n",
    "\n",
    "A fully polarimetric SAR measures a\n",
    "$2\\times 2$ _scattering matrix_ $S$  at each resolution cell on the ground.\n",
    "The scattering matrix relates the incident and the backscattered\n",
    "electric fields $E^i$ and $E^b$ according to\n",
    "\n",
    "$$\n",
    "\\pmatrix{E_h^b \\cr E_v^b}\n",
    "=\\pmatrix{S_{hh} & S_{hv}\\cr S_{vh} & S_{vv}}\\pmatrix{E_h^i \\cr E_v^i}.\n",
    "$$\n",
    "\n",
    "Here $E_h^{i(b)}$ and $E_v^{i(b)}$ denote the horizontal and vertical components of the incident (backscattered)\n",
    "oscillating electric fields directly at the target. These can be deduced from the transmitted and received\n",
    "radar signals via the so-called _far field_ approximations.\n",
    "If both horizontally and vertically polarized radar pulses are\n",
    "emitted and discriminated then they determine, from the above Equation, the four complex scattering matrix elements.\n",
    "The per-pixel polarimetric information in the scattering matrix $S$, under the assumption\n",
    "of reciprocity ($S_{hv} = S_{vh}$), can then be expressed as a three-component complex vector\n",
    "\n",
    "$$\n",
    "s = \\pmatrix{S_{hh}\\cr \\sqrt{2}S_{hv}\\cr S_{vv}},\n",
    "$$\n",
    "\n",
    "\n",
    "where the $\\sqrt{2}$ ensures that the total intensity (received signal power) is consistent. The total intensity is referred to as the _span_ and is the complex inner product of the vector $s$,\n",
    "\n",
    "$$\n",
    "{\\rm span} = s^\\top s = |S_{hh}|^2 + 2|S_{hv}|^2 + |S_{vv}|^2.\n",
    "$$\n",
    "\n",
    "This is a real number and the corresponding gray-scale image is called the _span image_. The observation vector $s$ can be shown to be a realization of a complex multivariate normal random variable. An equivalent and often preferred representation is in terms of the *coherency vector* or *Pauli decomposition*\n",
    "\n",
    "$$\n",
    "k = {1\\over\\sqrt{2}}\\pmatrix{S_{hh} + S_{vv}\\cr S_{hh} - S_{vv} \\cr 2S_{hv}}.\n",
    "$$\n",
    "\n",
    "The polarimetric signal is  can also be represented by taking the complex outer product of $s$ with itself:\n",
    "\n",
    "$$\n",
    "C = s s^\\top = \\pmatrix{ |S_{hh}|^2 & \\sqrt{2}S_{hh}S_{hv}^* & S_{hh}S_{vv}^* \\cr\n",
    "                                     \\sqrt{2}S_{hv}S_{hh}^* & 2|S_{hv}|^2 & \\sqrt{2}S_{hv}S_{vv}^* \\cr\n",
    "                                     S_{vv}S_{hh}^* & \\sqrt{2}S_{vv}S_{hv}^* & |S_{vv}|^2 }.\n",
    "$$\n",
    "\n",
    "The diagonal elements of $C$ are real numbers, with span $= {\\rm tr}(C)$, and the off-diagonal\n",
    "elements are complex. This matrix representation contains all of the information in the polarized signal.\n",
    "\n",
    "\n",
    "\n",
    "#### Multi-looking\n",
    "\n",
    "The matrix $C$ can be averaged over the number of looks (number of adjacent cells used to average out the effect of speckle) to give an estimate of the __covariance matrix__ of each multi-look pixel:\n",
    "\n",
    "$$\n",
    "\\bar{C}  ={1\\over m}\\sum_{\\nu=1}^m  s(\\nu) s(\\nu)^\\top = \\langle  s s^\\top \\rangle\n",
    " = \\pmatrix{ \\langle |S_{hh}|^2\\rangle & \\langle\\sqrt{2}S_{hh}S_{hv}^*\\rangle & \\langle S_{hh}S_{vv}^*\\rangle \\cr\n",
    "\\langle\\sqrt{2} S_{hv}S_{hh}^*\\rangle & \\langle 2|S_{hv}|^2\\rangle & \\langle\\sqrt{2}S_{hv}S_{vv}^*\\rangle \\cr\n",
    "\\langle S_{vv}S_{hh}^*\\rangle & \\langle\\sqrt{2}S_{vv}S_{hv}^*\\rangle & \\langle |S_{vv}|^2\\rangle },\n",
    "$$\n",
    "\n",
    "where $m$ is the number of looks. This matrix (or alternatively the equivalent __coherency matrix__ $\\langle  k k^\\top \\rangle$) can be generated with the Sentinel-1 Toolbox.  Rewriting the first of the above equalities,\n",
    "\n",
    "$$\n",
    "m\\bar{C} = \\sum_{\\nu=1}^m  s(\\nu) s(\\nu)^\\top =:  x.\n",
    "$$\n",
    "\n",
    "This quantity $x$ is a realization of a __complex random matrix__ which is known to have\n",
    "a complex Wishart distribution with $N\\times N$ covariance matrix $\\Sigma$ (here $N=3$) and $m$ degrees of freedom:\n",
    "\n",
    "$$\n",
    "p_{W_c}( x) ={|x|^{(m-N)}\\exp(-{\\rm tr}(\\Sigma^{-1} x)) \\over\n",
    "\\pi^{N(N-1)/2}|\\Sigma|^{m}\\prod_{i=1}^N\\Gamma(m+1-i)},\\quad m \\ge N,\n",
    "$$\n",
    "\n",
    "provided that the vectors $s(\\nu)$ are independent and drawn from a complex multivariate normal distribution.\n",
    "\n",
    "#### Dual and single polarimetric imagery\n",
    "\n",
    "The scattering vector given above corresponds to so-called full, or _quad polarimetric_ SAR.\n",
    "Satellite-based SAR sensors often operate in reduced, power-saving polarization modes, emitting only one polarization and receiving\n",
    "two (dual polarization) or one (single polarization). The look-averaged covariance matrices are reduced in dimension\n",
    "correspondingly. For instance for dual polarization with horizontal transmission and horizontal and vertical reception,\n",
    "\n",
    "$$\n",
    "\\bar{C} = \\pmatrix{ \\langle |S_{hh}|^2\\rangle & \\langle S_{hh}S_{hv}^*\\rangle \\cr\n",
    "\\langle S_{hv}S_{hh}^*\\rangle & \\langle |S_{hv}|^2\\rangle },\n",
    "$$\n",
    "\n",
    "and, for single polarization and horizontal transmission/reception, we get simply the intensity image\n",
    "\n",
    "$$\n",
    "\\bar{I} = \\langle |S_{hh}|^2\\rangle \\quad {\\rm or} \\quad \\bar{I} = \\langle |S_{vv}|^2\\rangle.\n",
    "$$\n",
    "\n",
    "A special case, relevant to Sentinel-1 data on the GEE is vertical transmission, vertical and horizontal reception without including the off diagonal complex element:\n",
    "\n",
    "$$\n",
    "\\bar{C} = \\pmatrix{ \\langle |S_{vv}|^2\\rangle & 0 \\cr\n",
    " 0 & \\langle |S_{vh}|^2\\rangle }\n",
    "$$\n",
    "\n",
    "referred to as dualpol, diagonal only."
   ]
  },
  {
   "cell_type": "markdown",
   "metadata": {},
   "source": [
    "#### Multi-temporal data: the omnibus test\n",
    "\n",
    "The following is discussion is based on <a href=\"http://www2.imm.dtu.dk/pubdb/views/publication_details.php?id=6825\">Conradsen et al (2016)</a>.\n",
    "\n",
    "As we have seen, we can represent a pixel vector in an $m$ look-averaged\n",
    "polSAR image in covariance matrix format by $\\bar C$, where\n",
    "\n",
    "$$\n",
    "m\\bar C =  x = \\sum_{\\nu=1}^m  s(\\nu) s(\\nu)^\\top\n",
    "$$\n",
    "\n",
    "is a realization of a random matrix $X$ with a complex Wishart distribution.\n",
    "\n",
    "In order to derive a change detection procedure for two polarimetric SAR images, we formulate a statistical test. For each pixel in $k$ images, define the null (or no-change) simple  hypothesis as\n",
    "\n",
    "$$\n",
    "H_0:\\quad \\Sigma_1 = \\Sigma_2 = \\dots = \\Sigma_k = \\Sigma,\n",
    "$$\n",
    "\n",
    "and the alternative composite hypothesis as\n",
    "\n",
    "$$\n",
    "H_1:\\quad \\Sigma_i \\ne \\Sigma_j \n",
    "$$\n",
    "for at least one pair $i,j$\n",
    "\n",
    "Then the __likelihood ratio test__ has the critical region for rejection of the no-change hypothesis\n",
    "\n",
    "$$\n",
    "Q = k^{kNm}{ |x_1|^m |x_2|^m\\cdots |x_k|^m \\over |x_1 + x_2 + \\dots x_k|^{km} } \\le t\n",
    "$$\n",
    "\n",
    "where $t$ is some small number and $N$ is the dimension of $x$.\n",
    "\n",
    "Taking logarithms:\n",
    "\n",
    "$$\n",
    "\\ln Q = m(Nk\\ln k + \\sum_{i=1}^k \\ln|x_i| - k \\ln|x|) \\le t'\n",
    "$$\n",
    "\n",
    "where $x = \\sum_{i=1}^k x_i$.\n",
    "\n",
    "Finally, we have the following approximation for the statistical distribution of the test statistic $Q$:\n",
    "\n",
    "$$\n",
    "{\\rm prob}(-2\\log Q\\le z) \\simeq P_{\\chi^2;(k-1)f}(z)\n",
    "$$\n",
    "\n",
    "where $f$ is the number of parameters requred to specify $x$: 9 for quadpol, 4 for dualpol and 2 for dualpol diagonal only.\n",
    "\n",
    "In practice we choose a significance level $\\alpha$, e.g., $\\alpha = 0.01$, and define the p-value as\n",
    "\n",
    "$$\n",
    "p = 1-{\\rm prob}(-2\\log Q\\le z)\n",
    "$$\n",
    "\n",
    "and interpret all pixels with $p<\\alpha$ as change.\n",
    "\n"
   ]
  },
  {
   "cell_type": "markdown",
   "metadata": {},
   "source": [
    "###  Sequential omnibus test\n",
    "\n",
    "Furthermore this test can be factored into a sequence of  tests involving hypotheses of the form\n",
    "$\\Sigma_1 = \\Sigma_2$ against $\\Sigma_1 \\ne \\Sigma_2$,\n",
    "$\\Sigma_1 = \\Sigma_2 = \\Sigma_3$ against $\\Sigma_1 = \\Sigma_2 \\ne \\Sigma_3$, and so forth. For example, to test\n",
    "\n",
    "$$\n",
    "H_{0j}: \\quad \\Sigma_1 = \\Sigma_2 = \\dots \\Sigma_{j-1} = \\Sigma_j\n",
    "$$\n",
    "\n",
    "against\n",
    "\n",
    "$$\n",
    "H_{0j}: \\quad \\Sigma_1 = \\Sigma_2 = \\dots \\Sigma_{j-1} \\ne \\Sigma_j\n",
    "$$\n",
    "\n",
    "the likelihood ratio test statstic is $R^1_j$ given by\n",
    "\n",
    "$$\n",
    "\\ln R^1_j = m\\big[N(j\\ln j - (j-1)\\ln (j-1)) + (j-1)\\ln \\big|\\sum_{i=1}^{j-1} x_i\\big| + \\ln|x_j| - j\\ln \\big|\\sum_{i=1}^{j} x_i\\big|\\ \\big] \\quad j=2\\dots k.\n",
    "$$\n",
    "\n",
    "and\n",
    "\n",
    "$$\n",
    "{\\rm prob}(-2\\log R^1_j\\le z) \\simeq P_{\\chi^2;f}(z)\n",
    "$$\n",
    "\n",
    "Now suppose that we conclude $\\Sigma_1\\ne \\Sigma_2$. Then we can continue to look for additional changes by restarting the tests at $j=3$,\n",
    "\n",
    "$$\n",
    "\\ln R^2_j = m\\big[N(j\\ln j - (j-1)\\ln (j-1)) + (j-1)\\ln \\big|\\sum_{i=2}^{j-1} x_i\\big| + \\ln|x_j| - j\\ln \\big|\\sum_{i=2}^{j} x_i\\big|\\ \\big] \\quad j=3\\dots k.\n",
    "$$\n",
    "\n",
    "For a series of, say, 5 images we therefore have, __for each pixel__, the following tests to consider\n",
    "\n",
    "$$\n",
    "\\matrix{\n",
    "R^1_2 & R^1_3 & R^1_4 & R^1_5 \\cr\n",
    "      & R^2_3 & R^2_4 & R^2_5 \\cr\n",
    "      &       & R^3_4 & R^3_5 \\cr\n",
    "      &       &       & R^4_5 }\n",
    "$$      \n",
    "\n",
    "\n"
   ]
  },
  {
   "cell_type": "code",
   "execution_count": null,
   "metadata": {},
   "outputs": [],
   "source": [
    "rect = ee.Geometry.Rectangle( [5.9985351562500009, 50.938486572440667, 6.0946655273437509, 50.973953836311068])\n",
    "collection = ee.ImageCollection('COPERNICUS/S1_GRD') \\\n",
    "                        .filterBounds(rect) \\\n",
    "                        .filterDate(ee.Date('2018-04-01'), ee.Date('2018-10-01')) \\\n",
    "                        .filter(ee.Filter.eq('transmitterReceiverPolarisation', ['VV','VH'])) \\\n",
    "                        .filter(ee.Filter.eq('resolution_meters', 10)) \\\n",
    "                        .filter(ee.Filter.eq('instrumentMode', 'IW')) \\\n",
    "                        .filter(ee.Filter.eq('orbitProperties_pass', 'ASCENDING')) \\\n",
    "                        .sort('system:time_start')                                     \n",
    "acquisition_times = ee.List(collection.aggregate_array('system:time_start')).getInfo() \n",
    "count = len(acquisition_times)\n",
    "print(count)"
   ]
  },
  {
   "cell_type": "code",
   "execution_count": null,
   "metadata": {},
   "outputs": [],
   "source": [
    "from auxil import eeWishart\n",
    "import math\n",
    "\n",
    "def get_vvvh(image):   \n",
    "    ''' get 'VV' and 'VH' bands from sentinel-1 imageCollection and restore linear signal from db-values '''\n",
    "    return image.select('VV','VH').multiply(ee.Image.constant(math.log(10.0)/10.0)).exp()\n",
    "\n",
    "def clipList(current,prev):\n",
    "    ''' clip a list of images '''\n",
    "    imlist = ee.List(ee.Dictionary(prev).get('imlist'))\n",
    "    rect = ee.Dictionary(prev).get('rect')    \n",
    "    imlist = imlist.add(ee.Image(current).clip(rect))\n",
    "    return ee.Dictionary({'imlist':imlist,'rect':rect})\n",
    "\n",
    "pcollection = collection.map(get_vvvh)\n",
    "\n",
    "# get the list of images and clip to roi\n",
    "pList = pcollection.toList(count)   \n",
    "first = ee.Dictionary({'imlist':ee.List([]),'rect':rect}) \n",
    "imList = ee.Dictionary(pList.iterate(clipList,first)).get('imlist')  \n",
    "\n",
    "# run the algorithm ------------------------------------------   \n",
    "result = ee.Dictionary(eeWishart.omnibus(imList,0.0001,4.4,True))\n",
    "# ------------------------------------------------------------      \n",
    "\n",
    "cmap = ee.Image(result.get('cmap')).byte()   \n",
    "smap = ee.Image(result.get('smap')).byte()\n",
    "fmap = ee.Image(result.get('fmap')).byte()  \n",
    "bmap = ee.Image(result.get('bmap')).byte()"
   ]
  },
  {
   "cell_type": "code",
   "execution_count": null,
   "metadata": {},
   "outputs": [],
   "source": [
    "import IPython.display as disp\n",
    "jet = 'black,blue,cyan,yellow,red'\n",
    "url = fmap.getThumbURL({'min':0,'max':15,'palette':jet})\n",
    "disp.Image(url=url,width = 1000)"
   ]
  },
  {
   "cell_type": "code",
   "execution_count": null,
   "metadata": {},
   "outputs": [],
   "source": [
    "from auxil.eeSar_seq import run\n",
    "run()"
   ]
  },
  {
   "cell_type": "markdown",
   "metadata": {},
   "source": [
    "### Dual Polarimtric Imagery from the Copernicus Open Access Hub"
   ]
  },
  {
   "cell_type": "code",
   "execution_count": null,
   "metadata": {},
   "outputs": [],
   "source": [
    "from sentinelsat import SentinelAPI, read_geojson, geojson_to_wkt\n",
    "import getpass\n",
    "passwd = getpass.getpass()\n",
    "api = SentinelAPI('mortcanty',passwd,'https://scihub.copernicus.eu/dhus')"
   ]
  },
  {
   "cell_type": "code",
   "execution_count": null,
   "metadata": {},
   "outputs": [],
   "source": [
    "# http://geojson.io/#map=12/50.8866/6.5176\n",
    "footprint = geojson_to_wkt({\n",
    "  \"type\": \"FeatureCollection\",\n",
    "  \"features\": [\n",
    "    {\n",
    "      \"type\": \"Feature\",\n",
    "      \"properties\": {},\n",
    "      \"geometry\": {\n",
    "        \"type\": \"Polygon\",\n",
    "        \"coordinates\": [\n",
    "          [\n",
    "            [\n",
    "              6.3775634765625,\n",
    "              50.81461241998999\n",
    "            ],\n",
    "            [\n",
    "              6.65771484375,\n",
    "              50.81461241998999\n",
    "            ],\n",
    "            [\n",
    "              6.65771484375,\n",
    "              50.958426723359935\n",
    "            ],\n",
    "            [\n",
    "              6.3775634765625,\n",
    "              50.958426723359935\n",
    "            ],\n",
    "            [\n",
    "              6.3775634765625,\n",
    "              50.81461241998999\n",
    "            ]\n",
    "          ]\n",
    "        ]\n",
    "      }\n",
    "    }\n",
    "  ]\n",
    "})"
   ]
  },
  {
   "cell_type": "code",
   "execution_count": null,
   "metadata": {},
   "outputs": [],
   "source": [
    "products = api.query(footprint,\n",
    "                     date=('20190501','20190507'),\n",
    "                     platformname='Sentinel-1',\n",
    "                     polarisationmode='VV VH',\n",
    "                     sensoroperationalmode='IW',\n",
    "                     orbitdirection='Ascending',\n",
    "                     relativeorbitnumber='15',\n",
    "                     producttype='SLC')"
   ]
  },
  {
   "cell_type": "code",
   "execution_count": null,
   "metadata": {},
   "outputs": [],
   "source": [
    "for key, value in products.items(): \n",
    "    print(key,value['title'])"
   ]
  },
  {
   "cell_type": "code",
   "execution_count": null,
   "metadata": {},
   "outputs": [],
   "source": [
    "for key, value in products.items(): \n",
    "    product_info = api.get_product_odata(key)\n",
    "    if product_info['Online']:\n",
    "        print('Product %s is online. Starting download.'%key)\n",
    "        api.download(key,directory_path='imagery')\n",
    "    else:\n",
    "        print('Product %s is not online.'%key)"
   ]
  },
  {
   "cell_type": "code",
   "execution_count": null,
   "metadata": {},
   "outputs": [],
   "source": [
    "api.download_all(products,directory_path='/home/mort/python/EESARDocker/src/imagery')"
   ]
  },
  {
   "cell_type": "markdown",
   "metadata": {},
   "source": [
    "### Preprocessing with the Sentinel-1 Toolbox"
   ]
  },
  {
   "cell_type": "code",
   "execution_count": null,
   "metadata": {},
   "outputs": [],
   "source": []
  }
 ],
 "metadata": {
  "kernelspec": {
   "display_name": "Python 3",
   "language": "python",
   "name": "python3"
  },
  "language_info": {
   "codemirror_mode": {
    "name": "ipython",
    "version": 3
   },
   "file_extension": ".py",
   "mimetype": "text/x-python",
   "name": "python",
   "nbconvert_exporter": "python",
   "pygments_lexer": "ipython3",
   "version": "3.6.8"
  }
 },
 "nbformat": 4,
 "nbformat_minor": 2
}
