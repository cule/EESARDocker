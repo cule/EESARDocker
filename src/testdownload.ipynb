{
 "cells": [
  {
   "cell_type": "code",
   "execution_count": 1,
   "metadata": {},
   "outputs": [
    {
     "data": {
      "text/plain": [
       "True"
      ]
     },
     "execution_count": 1,
     "metadata": {},
     "output_type": "execute_result"
    }
   ],
   "source": [
    "%matplotlib inline\n",
    "import ee\n",
    "from auxil.eeDownload import download\n",
    "from auxil.eeWishart import omnibus\n",
    "ee.Initialize()\n",
    "poly = ee.Geometry({'geodesic': False, 'type': 'Polygon', 'coordinates': [[[-105.10328600000001, 50.24327999999998], \n",
    "                                                                           [-104.66649400000001, 50.24327999999998], \n",
    "                                                                           [-104.66649400000001, 50.46604134048255], \n",
    "                                                                           [-105.10328600000001, 50.46604134048255], \n",
    "                                                                           [-105.10328600000001, 50.24327999999998]]]})\n",
    "poly = ee.Geometry(poly)\n",
    "collection = ee.ImageCollection('COPERNICUS/S1_GRD') \\\n",
    "                      .filterBounds(poly) \\\n",
    "                      .filterDate(ee.Date('2017-03-01'), ee.Date('2017-11-01')) \\\n",
    "                      .filter(ee.Filter.eq('transmitterReceiverPolarisation', ['VV','VH'])) \\\n",
    "                      .filter(ee.Filter.eq('resolution_meters', 10)) \\\n",
    "                      .filter(ee.Filter.eq('instrumentMode', 'IW')) \\\n",
    "                      .filter(ee.Filter.eq('relativeOrbitNumber_start',5)) \\\n",
    "                      .filter(ee.Filter.eq('orbitProperties_pass', 'ASCENDING'))  \n",
    "collection = collection.sort('system:time_start')\n",
    "\n",
    "img = collection.first().select(0,1).clip(poly)\n",
    "\n",
    "download(img)"
   ]
  },
  {
   "cell_type": "code",
   "execution_count": null,
   "metadata": {},
   "outputs": [],
   "source": []
  }
 ],
 "metadata": {
  "kernelspec": {
   "display_name": "Python 3",
   "language": "python",
   "name": "python3"
  },
  "language_info": {
   "codemirror_mode": {
    "name": "ipython",
    "version": 3
   },
   "file_extension": ".py",
   "mimetype": "text/x-python",
   "name": "python",
   "nbconvert_exporter": "python",
   "pygments_lexer": "ipython3",
   "version": "3.6.8"
  }
 },
 "nbformat": 4,
 "nbformat_minor": 2
}
