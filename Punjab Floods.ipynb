{
 "cells": [
  {
   "cell_type": "code",
   "execution_count": 1,
   "metadata": {},
   "outputs": [
    {
     "data": {
      "text/html": [
       "<p>To authorize access needed by Earth Engine, open the following\n",
       "        URL in a web browser and follow the instructions:</p>\n",
       "        <p><a href=https://accounts.google.com/o/oauth2/auth?client_id=517222506229-vsmmajv00ul0bs7p89v5m89qs8eb9359.apps.googleusercontent.com&scope=https%3A%2F%2Fwww.googleapis.com%2Fauth%2Fearthengine+https%3A%2F%2Fwww.googleapis.com%2Fauth%2Fdevstorage.full_control&redirect_uri=urn%3Aietf%3Awg%3Aoauth%3A2.0%3Aoob&response_type=code&code_challenge=kvBf2cCRUqg_UXSeiEdmZSi67Ry7q5Vm22UP3jtHp20&code_challenge_method=S256>https://accounts.google.com/o/oauth2/auth?client_id=517222506229-vsmmajv00ul0bs7p89v5m89qs8eb9359.apps.googleusercontent.com&scope=https%3A%2F%2Fwww.googleapis.com%2Fauth%2Fearthengine+https%3A%2F%2Fwww.googleapis.com%2Fauth%2Fdevstorage.full_control&redirect_uri=urn%3Aietf%3Awg%3Aoauth%3A2.0%3Aoob&response_type=code&code_challenge=kvBf2cCRUqg_UXSeiEdmZSi67Ry7q5Vm22UP3jtHp20&code_challenge_method=S256</a></p>\n",
       "        <p>The authorization workflow will generate a code, which you\n",
       "        should paste in the box below</p>\n",
       "        "
      ],
      "text/plain": [
       "<IPython.core.display.HTML object>"
      ]
     },
     "metadata": {},
     "output_type": "display_data"
    },
    {
     "name": "stdout",
     "output_type": "stream",
     "text": [
      "Enter verification code: 4/4gE120bVn8ictUP1aWAASNDA7kNxZimsNVXozWoy1mmP4CFczw28v7A\n",
      "\n",
      "Successfully saved authorization token.\n"
     ]
    }
   ],
   "source": [
    "import ee\n",
    "\n",
    "ee.Authenticate()"
   ]
  },
  {
   "cell_type": "code",
   "execution_count": 2,
   "metadata": {},
   "outputs": [
    {
     "name": "stdout",
     "output_type": "stream",
     "text": [
      "Google Earth Engine has initialized successfully!\n"
     ]
    }
   ],
   "source": [
    "import ee\n",
    "try:    \n",
    "    ee.Initialize()\n",
    "    print('Google Earth Engine has initialized successfully!')\n",
    "except ee.EEException as e:\n",
    "    print('Google Earth Engine has failed to initialize!')\n",
    "except:\n",
    "    print(\"Unexpected error:\", sys.exc_info()[0])\n",
    "    raise"
   ]
  },
  {
   "cell_type": "code",
   "execution_count": 4,
   "metadata": {},
   "outputs": [
    {
     "name": "stdout",
     "output_type": "stream",
     "text": [
      "Collecting geemap\n",
      "\u001b[?25l  Downloading https://files.pythonhosted.org/packages/32/db/5431406707d9245a23b8e46890b422abc022f19a824eb51ab86eeb51ae78/geemap-0.7.13-py2.py3-none-any.whl (373kB)\n",
      "\u001b[K     |████████████████████████████████| 378kB 3.7MB/s eta 0:00:01\n",
      "\u001b[?25hCollecting geocoder (from geemap)\n",
      "\u001b[?25l  Downloading https://files.pythonhosted.org/packages/4f/6b/13166c909ad2f2d76b929a4227c952630ebaf0d729f6317eb09cbceccbab/geocoder-1.38.1-py2.py3-none-any.whl (98kB)\n",
      "\u001b[K     |████████████████████████████████| 102kB 7.3MB/s ta 0:00:01\n",
      "\u001b[?25hRequirement already satisfied: folium>=0.11.0 in ./venv3/lib/python3.6/site-packages (from geemap) (0.11.0)\n",
      "Collecting voila (from geemap)\n",
      "\u001b[?25l  Downloading https://files.pythonhosted.org/packages/06/09/d14b97b6f6efe33f8e5fd0e6c95881809c1906aba8c366ec343c9f6ba386/voila-0.2.3-py3-none-any.whl (6.9MB)\n",
      "\u001b[K     |████████████████████████████████| 6.9MB 6.5MB/s eta 0:00:01\n",
      "\u001b[?25hCollecting colour (from geemap)\n",
      "  Downloading https://files.pythonhosted.org/packages/74/46/e81907704ab203206769dee1385dc77e1407576ff8f50a0681d0a6b541be/colour-0.1.5-py2.py3-none-any.whl\n",
      "Requirement already satisfied: matplotlib in ./venv3/lib/python3.6/site-packages (from geemap) (3.1.1)\n",
      "Collecting mss (from geemap)\n",
      "\u001b[?25l  Downloading https://files.pythonhosted.org/packages/98/fe/b658d2a62efcad506d680e988cce0ff7d3e09bef288d67be062753ecfd73/mss-6.0.0-py3-none-any.whl (76kB)\n",
      "\u001b[K     |████████████████████████████████| 81kB 7.2MB/s eta 0:00:01\n",
      "\u001b[?25hCollecting ipynb-py-convert (from geemap)\n",
      "  Downloading https://files.pythonhosted.org/packages/43/90/37ff1b9f553583e60c327e1ea8cbfea469c38c9d8791ad1f7ee6d3482efa/ipynb-py-convert-0.4.6.tar.gz\n",
      "Collecting geeadd>=0.5.1 (from geemap)\n",
      "  Downloading https://files.pythonhosted.org/packages/53/3e/98e4d21b5d06a670a6692272a89cbc1a1f238dbba0c4d3252ea1635ba7a4/geeadd-0.5.2-py3-none-any.whl\n",
      "Collecting pillow (from geemap)\n",
      "\u001b[?25l  Downloading https://files.pythonhosted.org/packages/30/bf/92385b4262178ca22b34f82e0e09c2922eb351fe39f3cc7b8ba9ea555b41/Pillow-7.2.0-cp36-cp36m-manylinux1_x86_64.whl (2.2MB)\n",
      "\u001b[K     |████████████████████████████████| 2.2MB 6.6MB/s eta 0:00:01\n",
      "\u001b[?25hRequirement already satisfied: earthengine-api>=0.1.230 in ./venv3/lib/python3.6/site-packages (from geemap) (0.1.232)\n",
      "Collecting pyshp (from geemap)\n",
      "\u001b[?25l  Downloading https://files.pythonhosted.org/packages/ca/1f/e9cc2c3fce32e2926581f8b6905831165235464c858ba550b6e9b8ef78c3/pyshp-2.1.2.tar.gz (217kB)\n",
      "\u001b[K     |████████████████████████████████| 225kB 6.5MB/s eta 0:00:01\n",
      "\u001b[?25hCollecting ipyleaflet>=0.13.3 (from geemap)\n",
      "\u001b[?25l  Downloading https://files.pythonhosted.org/packages/a0/9d/f411b8a9522f1710f278c60b2cd8d26817d8c64b7568de95f9437db6caf0/ipyleaflet-0.13.3-py2.py3-none-any.whl (5.1MB)\n",
      "\u001b[K     |████████████████████████████████| 5.1MB 6.7MB/s eta 0:00:01\n",
      "\u001b[?25hCollecting ipytree (from geemap)\n",
      "\u001b[?25l  Downloading https://files.pythonhosted.org/packages/36/2f/f93092e485afc384b4cc39f17ff1cb252380a3745bb4a7e2f6e488e3d0c4/ipytree-0.1.8-py2.py3-none-any.whl (1.1MB)\n",
      "\u001b[K     |████████████████████████████████| 1.1MB 7.2MB/s eta 0:00:01\n",
      "\u001b[?25hRequirement already satisfied: click in ./venv3/lib/python3.6/site-packages (from geemap) (7.0)\n",
      "Collecting ipyfilechooser (from geemap)\n",
      "  Downloading https://files.pythonhosted.org/packages/49/dd/b3783c5c1528f94b082e58b8fb050d4fb5120501814288614cb4c35b5c85/ipyfilechooser-0.3.5-py3-none-any.whl\n",
      "Requirement already satisfied: bqplot in ./venv3/lib/python3.6/site-packages (from geemap) (0.12.2)\n",
      "Collecting ffmpeg-python (from geemap)\n",
      "  Downloading https://files.pythonhosted.org/packages/d7/0c/56be52741f75bad4dc6555991fabd2e07b432d333da82c11ad701123888a/ffmpeg_python-0.2.0-py3-none-any.whl\n",
      "Collecting ratelim (from geocoder->geemap)\n",
      "  Downloading https://files.pythonhosted.org/packages/f2/98/7e6d147fd16a10a5f821db6e25f192265d6ecca3d82957a4fdd592cad49c/ratelim-0.1.6-py2.py3-none-any.whl\n",
      "Requirement already satisfied: requests in ./venv3/lib/python3.6/site-packages (from geocoder->geemap) (2.22.0)\n",
      "Requirement already satisfied: future in ./venv3/lib/python3.6/site-packages (from geocoder->geemap) (0.18.0)\n",
      "Requirement already satisfied: six in ./venv3/lib/python3.6/site-packages (from geocoder->geemap) (1.12.0)\n",
      "Requirement already satisfied: branca>=0.3.0 in ./venv3/lib/python3.6/site-packages (from folium>=0.11.0->geemap) (0.3.1)\n",
      "Requirement already satisfied: numpy in ./venv3/lib/python3.6/site-packages (from folium>=0.11.0->geemap) (1.17.2)\n",
      "Requirement already satisfied: jinja2>=2.9 in ./venv3/lib/python3.6/site-packages (from folium>=0.11.0->geemap) (2.10.3)\n",
      "Collecting nbconvert<7,>=6.0.0 (from voila->geemap)\n",
      "\u001b[?25l  Downloading https://files.pythonhosted.org/packages/9a/06/4548f8f47955c0a8f4a6047b2dd929e04e7713b20961a2c1acaa6c78b2f0/nbconvert-6.0.6-py3-none-any.whl (551kB)\n",
      "\u001b[K     |████████████████████████████████| 552kB 6.7MB/s eta 0:00:01\n",
      "\u001b[?25hCollecting jupyter-client<7,>=6.1.3 (from voila->geemap)\n",
      "\u001b[?25l  Downloading https://files.pythonhosted.org/packages/dc/41/9fa443d5ae8907dd8f7d12146cb0092dc053afd67b5b57e7e8786a328547/jupyter_client-6.1.7-py3-none-any.whl (108kB)\n",
      "\u001b[K     |████████████████████████████████| 112kB 7.2MB/s eta 0:00:01\n",
      "\u001b[?25hCollecting jupyter-server<2.0.0,>=0.3.0 (from voila->geemap)\n",
      "\u001b[?25l  Downloading https://files.pythonhosted.org/packages/2e/91/b0bec2386596ead92c735996fb123379e3d6a27a9214e5df322540758f0a/jupyter_server-1.0.3-py3-none-any.whl (208kB)\n",
      "\u001b[K     |████████████████████████████████| 215kB 6.9MB/s eta 0:00:01\n",
      "\u001b[?25hCollecting nbclient<0.6,>=0.4.0 (from voila->geemap)\n",
      "\u001b[?25l  Downloading https://files.pythonhosted.org/packages/c3/c0/b8802a7cd2bb7a81a64a580eb65047d2931fd9fea8c038ff3ada2a6bd0ae/nbclient-0.5.0-py3-none-any.whl (65kB)\n",
      "\u001b[K     |████████████████████████████████| 71kB 6.8MB/s eta 0:00:01\n",
      "\u001b[?25hRequirement already satisfied: cycler>=0.10 in ./venv3/lib/python3.6/site-packages (from matplotlib->geemap) (0.10.0)\n",
      "Requirement already satisfied: kiwisolver>=1.0.1 in ./venv3/lib/python3.6/site-packages (from matplotlib->geemap) (1.1.0)\n",
      "Requirement already satisfied: pyparsing!=2.0.4,!=2.1.2,!=2.1.6,>=2.0.1 in ./venv3/lib/python3.6/site-packages (from matplotlib->geemap) (2.4.2)\n",
      "Requirement already satisfied: python-dateutil>=2.1 in ./venv3/lib/python3.6/site-packages (from matplotlib->geemap) (2.8.0)\n",
      "Collecting logzero>=1.5.0 (from geeadd>=0.5.1->geemap)\n",
      "  Downloading https://files.pythonhosted.org/packages/97/24/27295d318ea8976b12cf9cc51d82e7c7129220f6a3cc9e3443df3be8afdb/logzero-1.5.0-py2.py3-none-any.whl\n",
      "Collecting beautifulsoup4>=4.9.0 (from geeadd>=0.5.1->geemap)\n",
      "\u001b[?25l  Downloading https://files.pythonhosted.org/packages/56/f2/6c6c7d0b5483b8c63e837c3f5d941e511979ceb3975ca45fa3ef682df2d6/beautifulsoup4-4.9.2-py3-none-any.whl (115kB)\n",
      "\u001b[K     |████████████████████████████████| 122kB 3.7MB/s eta 0:00:01\n",
      "\u001b[?25hRequirement already satisfied: google-auth>=1.4.1 in ./venv3/lib/python3.6/site-packages (from earthengine-api>=0.1.230->geemap) (1.6.3)\n",
      "Requirement already satisfied: google-cloud-storage in ./venv3/lib/python3.6/site-packages (from earthengine-api>=0.1.230->geemap) (1.20.0)\n",
      "Requirement already satisfied: httplib2<1dev,>=0.9.2 in ./venv3/lib/python3.6/site-packages (from earthengine-api>=0.1.230->geemap) (0.14.0)\n",
      "Requirement already satisfied: google-auth-httplib2>=0.0.3 in ./venv3/lib/python3.6/site-packages (from earthengine-api>=0.1.230->geemap) (0.0.3)\n",
      "Requirement already satisfied: google-api-python-client in ./venv3/lib/python3.6/site-packages (from earthengine-api>=0.1.230->geemap) (1.7.11)\n",
      "Requirement already satisfied: httplib2shim in ./venv3/lib/python3.6/site-packages (from earthengine-api>=0.1.230->geemap) (0.0.3)\n",
      "Requirement already satisfied: traittypes<3,>=0.2.1 in ./venv3/lib/python3.6/site-packages (from ipyleaflet>=0.13.3->geemap) (0.2.1)\n",
      "Requirement already satisfied: ipywidgets<8,>=7.5.0 in ./venv3/lib/python3.6/site-packages (from ipyleaflet>=0.13.3->geemap) (7.5.1)\n",
      "Requirement already satisfied: pandas in ./venv3/lib/python3.6/site-packages (from bqplot->geemap) (0.25.1)\n",
      "Requirement already satisfied: traitlets>=4.3.0 in ./venv3/lib/python3.6/site-packages (from bqplot->geemap) (4.3.3)\n",
      "Requirement already satisfied: decorator in ./venv3/lib/python3.6/site-packages (from ratelim->geocoder->geemap) (4.4.0)\n",
      "Requirement already satisfied: idna<2.9,>=2.5 in ./venv3/lib/python3.6/site-packages (from requests->geocoder->geemap) (2.8)\n",
      "Requirement already satisfied: urllib3!=1.25.0,!=1.25.1,<1.26,>=1.21.1 in ./venv3/lib/python3.6/site-packages (from requests->geocoder->geemap) (1.25.6)\n",
      "Requirement already satisfied: chardet<3.1.0,>=3.0.2 in ./venv3/lib/python3.6/site-packages (from requests->geocoder->geemap) (3.0.4)\n",
      "Requirement already satisfied: certifi>=2017.4.17 in ./venv3/lib/python3.6/site-packages (from requests->geocoder->geemap) (2019.9.11)\n",
      "Requirement already satisfied: MarkupSafe>=0.23 in ./venv3/lib/python3.6/site-packages (from jinja2>=2.9->folium>=0.11.0->geemap) (1.1.1)\n",
      "Requirement already satisfied: pygments>=2.4.1 in ./venv3/lib/python3.6/site-packages (from nbconvert<7,>=6.0.0->voila->geemap) (2.4.2)\n",
      "Requirement already satisfied: entrypoints>=0.2.2 in ./venv3/lib/python3.6/site-packages (from nbconvert<7,>=6.0.0->voila->geemap) (0.3)\n",
      "Requirement already satisfied: mistune<2,>=0.8.1 in ./venv3/lib/python3.6/site-packages (from nbconvert<7,>=6.0.0->voila->geemap) (0.8.4)\n",
      "Requirement already satisfied: testpath in ./venv3/lib/python3.6/site-packages (from nbconvert<7,>=6.0.0->voila->geemap) (0.4.2)\n"
     ]
    },
    {
     "name": "stdout",
     "output_type": "stream",
     "text": [
      "Collecting jupyterlab-pygments (from nbconvert<7,>=6.0.0->voila->geemap)\n",
      "  Downloading https://files.pythonhosted.org/packages/a8/6f/c34288766797193b512c6508f5994b830fb06134fdc4ca8214daba0aa443/jupyterlab_pygments-0.1.2-py2.py3-none-any.whl\n",
      "Requirement already satisfied: jupyter-core in ./venv3/lib/python3.6/site-packages (from nbconvert<7,>=6.0.0->voila->geemap) (4.6.0)\n",
      "Requirement already satisfied: pandocfilters>=1.4.1 in ./venv3/lib/python3.6/site-packages (from nbconvert<7,>=6.0.0->voila->geemap) (1.4.2)\n",
      "Requirement already satisfied: defusedxml in ./venv3/lib/python3.6/site-packages (from nbconvert<7,>=6.0.0->voila->geemap) (0.6.0)\n",
      "Requirement already satisfied: nbformat>=4.4 in ./venv3/lib/python3.6/site-packages (from nbconvert<7,>=6.0.0->voila->geemap) (4.4.0)\n",
      "Requirement already satisfied: bleach in ./venv3/lib/python3.6/site-packages (from nbconvert<7,>=6.0.0->voila->geemap) (3.1.0)\n",
      "Requirement already satisfied: tornado>=4.1 in ./venv3/lib/python3.6/site-packages (from jupyter-client<7,>=6.1.3->voila->geemap) (6.0.3)\n",
      "Requirement already satisfied: pyzmq>=13 in ./venv3/lib/python3.6/site-packages (from jupyter-client<7,>=6.1.3->voila->geemap) (18.1.0)\n",
      "Collecting terminado>=0.8.3 (from jupyter-server<2.0.0,>=0.3.0->voila->geemap)\n",
      "  Downloading https://files.pythonhosted.org/packages/5f/17/fa9560738187cdb185d282a120ec4a147064f001d7c0114271ca1374d0a1/terminado-0.9.1-py3-none-any.whl\n",
      "Requirement already satisfied: Send2Trash in ./venv3/lib/python3.6/site-packages (from jupyter-server<2.0.0,>=0.3.0->voila->geemap) (1.5.0)\n",
      "Requirement already satisfied: prometheus-client in ./venv3/lib/python3.6/site-packages (from jupyter-server<2.0.0,>=0.3.0->voila->geemap) (0.7.1)\n",
      "Requirement already satisfied: ipython-genutils in ./venv3/lib/python3.6/site-packages (from jupyter-server<2.0.0,>=0.3.0->voila->geemap) (0.2.0)\n",
      "Collecting nest-asyncio (from nbclient<0.6,>=0.4.0->voila->geemap)\n",
      "  Downloading https://files.pythonhosted.org/packages/a0/68/c917f9679b3206952e13e95434d6e70dacea13161dff3476fa088e610987/nest_asyncio-1.4.1-py3-none-any.whl\n",
      "Collecting async-generator (from nbclient<0.6,>=0.4.0->voila->geemap)\n",
      "  Downloading https://files.pythonhosted.org/packages/71/52/39d20e03abd0ac9159c162ec24b93fbcaa111e8400308f2465432495ca2b/async_generator-1.10-py3-none-any.whl\n",
      "Requirement already satisfied: setuptools in ./venv3/lib/python3.6/site-packages (from kiwisolver>=1.0.1->matplotlib->geemap) (41.4.0)\n",
      "Collecting soupsieve>1.2; python_version >= \"3.0\" (from beautifulsoup4>=4.9.0->geeadd>=0.5.1->geemap)\n",
      "  Downloading https://files.pythonhosted.org/packages/6f/8f/457f4a5390eeae1cc3aeab89deb7724c965be841ffca6cfca9197482e470/soupsieve-2.0.1-py3-none-any.whl\n",
      "Requirement already satisfied: pyasn1-modules>=0.2.1 in ./venv3/lib/python3.6/site-packages (from google-auth>=1.4.1->earthengine-api>=0.1.230->geemap) (0.2.7)\n",
      "Requirement already satisfied: rsa>=3.1.4 in ./venv3/lib/python3.6/site-packages (from google-auth>=1.4.1->earthengine-api>=0.1.230->geemap) (4.0)\n",
      "Requirement already satisfied: cachetools>=2.0.0 in ./venv3/lib/python3.6/site-packages (from google-auth>=1.4.1->earthengine-api>=0.1.230->geemap) (3.1.1)\n",
      "Requirement already satisfied: google-cloud-core<2.0dev,>=1.0.3 in ./venv3/lib/python3.6/site-packages (from google-cloud-storage->earthengine-api>=0.1.230->geemap) (1.0.3)\n",
      "Requirement already satisfied: google-resumable-media!=0.4.0,<0.5dev,>=0.3.1 in ./venv3/lib/python3.6/site-packages (from google-cloud-storage->earthengine-api>=0.1.230->geemap) (0.4.1)\n",
      "Requirement already satisfied: uritemplate<4dev,>=3.0.0 in ./venv3/lib/python3.6/site-packages (from google-api-python-client->earthengine-api>=0.1.230->geemap) (3.0.0)\n",
      "Requirement already satisfied: ipython>=4.0.0; python_version >= \"3.3\" in ./venv3/lib/python3.6/site-packages (from ipywidgets<8,>=7.5.0->ipyleaflet>=0.13.3->geemap) (7.8.0)\n",
      "Requirement already satisfied: widgetsnbextension~=3.5.0 in ./venv3/lib/python3.6/site-packages (from ipywidgets<8,>=7.5.0->ipyleaflet>=0.13.3->geemap) (3.5.1)\n",
      "Requirement already satisfied: ipykernel>=4.5.1 in ./venv3/lib/python3.6/site-packages (from ipywidgets<8,>=7.5.0->ipyleaflet>=0.13.3->geemap) (5.1.2)\n",
      "Requirement already satisfied: pytz>=2017.2 in ./venv3/lib/python3.6/site-packages (from pandas->bqplot->geemap) (2019.3)\n",
      "Requirement already satisfied: jsonschema!=2.5.0,>=2.4 in ./venv3/lib/python3.6/site-packages (from nbformat>=4.4->nbconvert<7,>=6.0.0->voila->geemap) (3.1.1)\n",
      "Requirement already satisfied: webencodings in ./venv3/lib/python3.6/site-packages (from bleach->nbconvert<7,>=6.0.0->voila->geemap) (0.5.1)\n",
      "Requirement already satisfied: ptyprocess; os_name != \"nt\" in ./venv3/lib/python3.6/site-packages (from terminado>=0.8.3->jupyter-server<2.0.0,>=0.3.0->voila->geemap) (0.6.0)\n",
      "Requirement already satisfied: pyasn1<0.5.0,>=0.4.6 in ./venv3/lib/python3.6/site-packages (from pyasn1-modules>=0.2.1->google-auth>=1.4.1->earthengine-api>=0.1.230->geemap) (0.4.7)\n",
      "Requirement already satisfied: google-api-core<2.0.0dev,>=1.14.0 in ./venv3/lib/python3.6/site-packages (from google-cloud-core<2.0dev,>=1.0.3->google-cloud-storage->earthengine-api>=0.1.230->geemap) (1.14.3)\n",
      "Requirement already satisfied: backcall in ./venv3/lib/python3.6/site-packages (from ipython>=4.0.0; python_version >= \"3.3\"->ipywidgets<8,>=7.5.0->ipyleaflet>=0.13.3->geemap) (0.1.0)\n",
      "Requirement already satisfied: prompt-toolkit<2.1.0,>=2.0.0 in ./venv3/lib/python3.6/site-packages (from ipython>=4.0.0; python_version >= \"3.3\"->ipywidgets<8,>=7.5.0->ipyleaflet>=0.13.3->geemap) (2.0.10)\n",
      "Requirement already satisfied: jedi>=0.10 in ./venv3/lib/python3.6/site-packages (from ipython>=4.0.0; python_version >= \"3.3\"->ipywidgets<8,>=7.5.0->ipyleaflet>=0.13.3->geemap) (0.15.1)\n",
      "Requirement already satisfied: pexpect; sys_platform != \"win32\" in ./venv3/lib/python3.6/site-packages (from ipython>=4.0.0; python_version >= \"3.3\"->ipywidgets<8,>=7.5.0->ipyleaflet>=0.13.3->geemap) (4.7.0)\n",
      "Requirement already satisfied: pickleshare in ./venv3/lib/python3.6/site-packages (from ipython>=4.0.0; python_version >= \"3.3\"->ipywidgets<8,>=7.5.0->ipyleaflet>=0.13.3->geemap) (0.7.5)\n",
      "Requirement already satisfied: notebook>=4.4.1 in ./venv3/lib/python3.6/site-packages (from widgetsnbextension~=3.5.0->ipywidgets<8,>=7.5.0->ipyleaflet>=0.13.3->geemap) (6.0.1)\n",
      "Requirement already satisfied: importlib-metadata in ./venv3/lib/python3.6/site-packages (from jsonschema!=2.5.0,>=2.4->nbformat>=4.4->nbconvert<7,>=6.0.0->voila->geemap) (0.23)\n",
      "Requirement already satisfied: attrs>=17.4.0 in ./venv3/lib/python3.6/site-packages (from jsonschema!=2.5.0,>=2.4->nbformat>=4.4->nbconvert<7,>=6.0.0->voila->geemap) (19.2.0)\n",
      "Requirement already satisfied: pyrsistent>=0.14.0 in ./venv3/lib/python3.6/site-packages (from jsonschema!=2.5.0,>=2.4->nbformat>=4.4->nbconvert<7,>=6.0.0->voila->geemap) (0.15.4)\n",
      "Requirement already satisfied: googleapis-common-protos<2.0dev,>=1.6.0 in ./venv3/lib/python3.6/site-packages (from google-api-core<2.0.0dev,>=1.14.0->google-cloud-core<2.0dev,>=1.0.3->google-cloud-storage->earthengine-api>=0.1.230->geemap) (1.6.0)\n",
      "Requirement already satisfied: protobuf>=3.4.0 in ./venv3/lib/python3.6/site-packages (from google-api-core<2.0.0dev,>=1.14.0->google-cloud-core<2.0dev,>=1.0.3->google-cloud-storage->earthengine-api>=0.1.230->geemap) (3.10.0)\n",
      "Requirement already satisfied: wcwidth in ./venv3/lib/python3.6/site-packages (from prompt-toolkit<2.1.0,>=2.0.0->ipython>=4.0.0; python_version >= \"3.3\"->ipywidgets<8,>=7.5.0->ipyleaflet>=0.13.3->geemap) (0.1.7)\n",
      "Requirement already satisfied: parso>=0.5.0 in ./venv3/lib/python3.6/site-packages (from jedi>=0.10->ipython>=4.0.0; python_version >= \"3.3\"->ipywidgets<8,>=7.5.0->ipyleaflet>=0.13.3->geemap) (0.5.1)\n",
      "Requirement already satisfied: zipp>=0.5 in ./venv3/lib/python3.6/site-packages (from importlib-metadata->jsonschema!=2.5.0,>=2.4->nbformat>=4.4->nbconvert<7,>=6.0.0->voila->geemap) (0.6.0)\n",
      "Requirement already satisfied: more-itertools in ./venv3/lib/python3.6/site-packages (from zipp>=0.5->importlib-metadata->jsonschema!=2.5.0,>=2.4->nbformat>=4.4->nbconvert<7,>=6.0.0->voila->geemap) (7.2.0)\n",
      "Building wheels for collected packages: ipynb-py-convert, pyshp\n"
     ]
    },
    {
     "name": "stdout",
     "output_type": "stream",
     "text": [
      "  Building wheel for ipynb-py-convert (setup.py) ... \u001b[?25ldone\n",
      "\u001b[?25h  Created wheel for ipynb-py-convert: filename=ipynb_py_convert-0.4.6-cp36-none-any.whl size=4624 sha256=7feb37c31abe9ab2b7c2f381fa492b251e356dd60035a2b21051c9f6f9ce506f\n",
      "  Stored in directory: /home/mort/.cache/pip/wheels/80/dc/7c/a7279f7726d66951fe48d5afd45247bcf5bf92c98282e4e78e\n",
      "  Building wheel for pyshp (setup.py) ... \u001b[?25ldone\n",
      "\u001b[?25h  Created wheel for pyshp: filename=pyshp-2.1.2-cp36-none-any.whl size=36216 sha256=c51514d18326b32012dacc5cfc0737feb6923c4849fe6ef40866009fd07aaefa\n",
      "  Stored in directory: /home/mort/.cache/pip/wheels/96/6c/53/4112475adf3b831da97f083163d0f38ee6daac9c1b13f7afea\n",
      "Successfully built ipynb-py-convert pyshp\n",
      "\u001b[31mERROR: nbclient 0.5.0 has requirement nbformat>=5.0, but you'll have nbformat 4.4.0 which is incompatible.\u001b[0m\n",
      "Installing collected packages: ratelim, geocoder, nest-asyncio, jupyter-client, async-generator, nbclient, jupyterlab-pygments, nbconvert, terminado, jupyter-server, voila, colour, mss, ipynb-py-convert, logzero, soupsieve, beautifulsoup4, geeadd, pillow, pyshp, ipyleaflet, ipytree, ipyfilechooser, ffmpeg-python, geemap\n",
      "  Found existing installation: jupyter-client 5.3.4\n",
      "    Uninstalling jupyter-client-5.3.4:\n",
      "      Successfully uninstalled jupyter-client-5.3.4\n",
      "  Found existing installation: nbconvert 5.6.0\n",
      "    Uninstalling nbconvert-5.6.0:\n",
      "      Successfully uninstalled nbconvert-5.6.0\n",
      "  Found existing installation: terminado 0.8.2\n",
      "    Uninstalling terminado-0.8.2:\n",
      "      Successfully uninstalled terminado-0.8.2\n",
      "  Found existing installation: ipyleaflet 0.13.0\n",
      "    Uninstalling ipyleaflet-0.13.0:\n",
      "      Successfully uninstalled ipyleaflet-0.13.0\n",
      "Successfully installed async-generator-1.10 beautifulsoup4-4.9.2 colour-0.1.5 ffmpeg-python-0.2.0 geeadd-0.5.2 geemap-0.7.13 geocoder-1.38.1 ipyfilechooser-0.3.5 ipyleaflet-0.13.3 ipynb-py-convert-0.4.6 ipytree-0.1.8 jupyter-client-6.1.7 jupyter-server-1.0.3 jupyterlab-pygments-0.1.2 logzero-1.5.0 mss-6.0.0 nbclient-0.5.0 nbconvert-6.0.6 nest-asyncio-1.4.1 pillow-7.2.0 pyshp-2.1.2 ratelim-0.1.6 soupsieve-2.0.1 terminado-0.9.1 voila-0.2.3\n",
      "\u001b[33mWARNING: You are using pip version 19.2.3, however version 20.2.3 is available.\n",
      "You should consider upgrading via the 'pip install --upgrade pip' command.\u001b[0m\n"
     ]
    }
   ],
   "source": [
    "!pip3 install geemap"
   ]
  },
  {
   "cell_type": "code",
   "execution_count": 5,
   "metadata": {},
   "outputs": [],
   "source": [
    "import geemap\n",
    "Map = geemap.Map()"
   ]
  },
  {
   "cell_type": "code",
   "execution_count": 4,
   "metadata": {},
   "outputs": [],
   "source": [
    "# Import the shape file\n",
    "floodedDistricts = ee.FeatureCollection('users/namratas/FloodedPunjabdistricts')\n"
   ]
  },
  {
   "cell_type": "code",
   "execution_count": 5,
   "metadata": {},
   "outputs": [],
   "source": [
    "Map.setOptions('TERRAIN')\n",
    "Map.centerObject(floodedDistricts, 8)\n",
    "\n",
    "# Create an empty image into which to paint the features, cast to byte.\n",
    "empty = ee.Image().byte()\n",
    "\n",
    "# Paint both the fill and the edges.\n",
    "filledOutlines = empty.paint(floodedDistricts, 'BIOME_NUM').paint(floodedDistricts, 0, 2)\n",
    "Map.addLayer(filledOutlines, {\"palette\": 'BEBEBE', max: 14}, 'ROI')\n",
    "#Map.addLayerControl() \n",
    "#Map"
   ]
  },
  {
   "cell_type": "code",
   "execution_count": 6,
   "metadata": {},
   "outputs": [],
   "source": [
    "beforeStart = '2019-03-13'\n",
    "beforeEnd = '2019-06-13'\n",
    "\n",
    "afterStart = '2019-08-21'\n",
    "afterEnd = '2019-09-16'"
   ]
  },
  {
   "cell_type": "code",
   "execution_count": 7,
   "metadata": {},
   "outputs": [],
   "source": [
    "s1 = ee.ImageCollection(\"COPERNICUS/S1_GRD\")\n",
    "\n",
    "s1Collection = s1.filter(ee.Filter.eq('instrumentMode', 'IW'))\\\n",
    "                      .filter(ee.Filter.eq('transmitterReceiverPolarisation', ['VV','VH'])) \\\n",
    "                      .filter(ee.Filter.eq('orbitProperties_pass', 'DESCENDING'))\\\n",
    "                      .filter(ee.Filter.eq('resolution_meters',10)) \\\n",
    "                      .filterBounds(floodedDistricts) \\\n",
    "                      .select('V.*')"
   ]
  },
  {
   "cell_type": "code",
   "execution_count": 8,
   "metadata": {},
   "outputs": [],
   "source": [
    "before_collection = s1Collection.select('VH').filterDate(beforeStart, beforeEnd)\n",
    "after_collection = s1Collection.select('VH').filterDate(afterStart, afterEnd)\n",
    "\n",
    "before = before_collection.mosaic().clip(floodedDistricts)\n",
    "after = after_collection.mosaic().clip(floodedDistricts)"
   ]
  },
  {
   "cell_type": "code",
   "execution_count": 9,
   "metadata": {},
   "outputs": [],
   "source": [
    "# Focal_mean() for visualization and RefinedLee() for flood assessment\n",
    "\n",
    "# focal_mean() with a radius of 50 pixels is applied\n",
    "SMOOTHING_RADIUS = 50\n",
    "before_focal_mean = before.focal_mean(SMOOTHING_RADIUS, 'circle', 'meters')\n",
    "after_focal_mean = after.focal_mean(SMOOTHING_RADIUS, 'circle', 'meters')\n",
    "\n",
    "#Map.addLayer(before_focal_mean, {min:-25,max:0}, 'Before Flood (focal_mean)',0)\n",
    "#Map.addLayer(after_focal_mean, {min:-25,max:0}, 'After Flood (focal_mean)',0)"
   ]
  },
  {
   "cell_type": "code",
   "execution_count": 10,
   "metadata": {},
   "outputs": [],
   "source": [
    "#===============================RefinedLee() FUNCTIONS==================================================================================\n",
    "\n",
    "# Applying a Refined Lee Speckle filter as coded in the SNAP 3.0 S1TBX:\n",
    "\n",
    "# https://github.com/senbox-org/s1tbx/blob/master/s1tbx-op-sar-processing/src/main/java/org/esa/s1tbx/sar/gpf/filtering/SpeckleFilters/RefinedLee.java\n",
    "# Adapted by Guido Lemoine\n",
    "\n",
    "# Function to convert from dB\n",
    "def toNatural(img):\n",
    "    return ee.Image(10.0).pow(img.select(0).divide(10.0))\n",
    "\n",
    "# Function to convert to dB\n",
    "def toDB(img):\n",
    "    return ee.Image(img).log10().multiply(10.0)\n",
    "\n",
    "# by Guido Lemoine\n",
    "def RefinedLee(img):\n",
    "    # img must be in natural units, i.e. not in dB!\n",
    "    # Set up 3x3 kernels \n",
    "    weights3 = ee.List.repeat(ee.List.repeat(1,3),3)\n",
    "    kernel3 = ee.Kernel.fixed(3,3, weights3, 1, 1, False)\n",
    "    \n",
    "    mean3 = img.reduceNeighborhood(ee.Reducer.mean(), kernel3)\n",
    "    variance3 = img.reduceNeighborhood(ee.Reducer.variance(), kernel3)\n",
    "\n",
    "    # Use a sample of the 3x3 windows inside a 7x7 windows to determine gradients and directions\n",
    "    sample_weights = ee.List([[0,0,0,0,0,0,0], [0,1,0,1,0,1,0],\\\n",
    "                             [0,0,0,0,0,0,0], [0,1,0,1,0,1,0], \\\n",
    "                             [0,0,0,0,0,0,0], [0,1,0,1,0,1,0],[0,0,0,0,0,0,0]])\n",
    "\n",
    "    sample_kernel = ee.Kernel.fixed(7,7, sample_weights, 3,3, False)\n",
    "\n",
    "    # Calculate mean and variance for the sampled windows and store as 9 bands\n",
    "    sample_mean = mean3.neighborhoodToBands(sample_kernel)\n",
    "    sample_var = variance3.neighborhoodToBands(sample_kernel)\n",
    "\n",
    "    # Determine the 4 gradients for the sampled windows\n",
    "    gradients = sample_mean.select(1).subtract(sample_mean.select(7)).abs()\n",
    "    gradients = gradients.addBands(sample_mean.select(6).subtract(sample_mean.select(2)).abs())\n",
    "    gradients = gradients.addBands(sample_mean.select(3).subtract(sample_mean.select(5)).abs())\n",
    "    gradients = gradients.addBands(sample_mean.select(0).subtract(sample_mean.select(8)).abs())\n",
    "\n",
    "    # And find the maximum gradient amongst gradient bands\n",
    "    max_gradient = gradients.reduce(ee.Reducer.max())\n",
    "\n",
    "    # Create a mask for band pixels that are the maximum gradient\n",
    "    gradmask = gradients.eq(max_gradient)\n",
    "\n",
    "    # duplicate gradmask bands: each gradient represents 2 directions\n",
    "    gradmask = gradmask.addBands(gradmask)\n",
    "\n",
    "    # Determine the 8 directions\n",
    "    directions = sample_mean.select(1) \\\n",
    "                            .subtract(sample_mean.select(4)) \\\n",
    "                            .gt(sample_mean.select(4).subtract(sample_mean.select(7))) \\\n",
    "                            .multiply(1)\n",
    "    directions = directions.addBands(sample_mean.select(6).subtract(sample_mean.select(4)) \\\n",
    "                           .gt(sample_mean.select(4).subtract(sample_mean.select(2))) \\\n",
    "                           .multiply(2))\n",
    "    directions = directions.addBands(sample_mean.select(3).subtract(sample_mean.select(4)) \\\n",
    "                           .gt(sample_mean.select(4).subtract(sample_mean.select(5))) \\\n",
    "                           .multiply(3))\n",
    "    directions = directions.addBands(sample_mean.select(0).subtract(sample_mean.select(4)) \\\n",
    "                           .gt(sample_mean.select(4).subtract(sample_mean.select(8))) \\\n",
    "                           .multiply(4))\n",
    "    # The next 4 are the not() of the previous 4\n",
    "    directions = directions.addBands(directions.select(0).Not().multiply(5))\n",
    "    directions = directions.addBands(directions.select(1).Not().multiply(6))\n",
    "    directions = directions.addBands(directions.select(2).Not().multiply(7))\n",
    "    directions = directions.addBands(directions.select(3).Not().multiply(8))\n",
    "\n",
    "    # Mask all values that are not 1-8\n",
    "    directions = directions.updateMask(gradmask)\n",
    "\n",
    "    # \"collapse\" the stack into a singe band image (due to masking, each pixel has just \n",
    "    # one value (1-8) in it's directional band, and is otherwise masked)\n",
    "    directions = directions.reduce(ee.Reducer.sum()) \n",
    "\n",
    "    pal = ['ffffff','ff0000','ffff00', '00ff00', '00ffff', '0000ff', 'ff00ff', '000000']\n",
    "    # Map.addLayer(directions.reduce(ee.Reducer.sum()), {min:1, max:8, palette: pal}, 'Directions', false)\n",
    "\n",
    "    sample_stats = sample_var.divide(sample_mean.multiply(sample_mean))\n",
    "\n",
    "    # Calculate localNoiseVariance\n",
    "    sigmaV = sample_stats.toArray().arraySort().arraySlice(0,0,5).arrayReduce(ee.Reducer.mean(), [0])\n",
    "\n",
    "    # Set up the 7*7 kernels for directional statistics\n",
    "    rect_weights = ee.List.repeat(ee.List.repeat(0,7),3).cat(ee.List.repeat(ee.List.repeat(1,7),4))\n",
    "\n",
    "    diag_weights = ee.List([[1,0,0,0,0,0,0], [1,1,0,0,0,0,0],\\\n",
    "                                [1,1,1,0,0,0,0], [1,1,1,1,0,0,0], \\\n",
    "                                [1,1,1,1,1,0,0], [1,1,1,1,1,1,0], [1,1,1,1,1,1,1]])\n",
    "\n",
    "    rect_kernel = ee.Kernel.fixed(7,7, rect_weights, 3, 3, False)\n",
    "    diag_kernel = ee.Kernel.fixed(7,7, diag_weights, 3, 3, False)\n",
    "\n",
    "    # Create stacks for mean and variance using the original kernels. Mask with relevant direction.\n",
    "    dir_mean = img.reduceNeighborhood(ee.Reducer.mean(), rect_kernel).updateMask(directions.eq(1))\n",
    "    dir_var = img.reduceNeighborhood(ee.Reducer.variance(), rect_kernel).updateMask(directions.eq(1))\n",
    "\n",
    "    dir_mean = dir_mean.addBands(img.reduceNeighborhood(ee.Reducer.mean(), diag_kernel).updateMask(directions.eq(2)))\n",
    "    dir_var = dir_var.addBands(img.reduceNeighborhood(ee.Reducer.variance(), diag_kernel).updateMask(directions.eq(2)))\n",
    "\n",
    "    # and add the bands for rotated kernels\n",
    "    #for  (var i=1; i<4; i++):\n",
    "    for i in range(1, 4):\n",
    "        dir_mean = dir_mean.addBands(img.reduceNeighborhood(ee.Reducer.mean(), rect_kernel.rotate(i)) \\\n",
    "                                        .updateMask(directions.eq(2*i+1)))\n",
    "        dir_var = dir_var.addBands(img.reduceNeighborhood(ee.Reducer.variance(), rect_kernel.rotate(i)) \\\n",
    "                                        .updateMask(directions.eq(2*i+1)))\n",
    "        dir_mean = dir_mean.addBands(img.reduceNeighborhood(ee.Reducer.mean(), diag_kernel.rotate(i)) \\\n",
    "                                        .updateMask(directions.eq(2*i+2)))\n",
    "        dir_var = dir_var.addBands(img.reduceNeighborhood(ee.Reducer.variance(), diag_kernel.rotate(i)) \\\n",
    "                                        .updateMask(directions.eq(2*i+2)))  \n",
    "\n",
    "    # \"collapse\" the stack into a single band image (due to masking, each pixel has just one value in it's directional band, and is otherwise masked)\n",
    "    dir_mean = dir_mean.reduce(ee.Reducer.sum())\n",
    "    dir_var = dir_var.reduce(ee.Reducer.sum())\n",
    "\n",
    "    # A finally generate the filtered value\n",
    "    varX = dir_var.subtract(dir_mean.multiply(dir_mean).multiply(sigmaV)).divide(sigmaV.add(1.0))\n",
    "\n",
    "    b = varX.divide(dir_var)\n",
    "\n",
    "    result = dir_mean.add(b.multiply(img.subtract(dir_mean)))\n",
    "    \n",
    "    return(result.arrayFlatten([['sum']]))\n"
   ]
  },
  {
   "cell_type": "code",
   "execution_count": 12,
   "metadata": {},
   "outputs": [],
   "source": [
    "# RefinedLee()\n",
    "before_rLee = ee.Image(toDB(RefinedLee(toNatural(before))))\n",
    "after_rLee = ee.Image(toDB(RefinedLee(toNatural(after))))"
   ]
  },
  {
   "cell_type": "code",
   "execution_count": 13,
   "metadata": {},
   "outputs": [],
   "source": [
    "#=================FLOOD EXTENT CALCULATION, ASSESSMENT AND VISUALIZATION==========================================================================\n",
    "\n",
    "difference_rLee = after_rLee.divide(before_rLee)\n",
    "\n",
    "# To prominently highlight the flooded areas, a flood extent mask is created using \n",
    "# a difference threshold value of 1.25\n",
    "DIFF_UPPER_THRESHOLD = 1.25\n",
    "\n",
    "# Use RefinedLee() for flood calculations\n",
    "# Identify pixels above the threshold (i.e flood pixels).\n",
    "# Set all other pixels to 0\n",
    "floodMask = difference_rLee.gt(DIFF_UPPER_THRESHOLD).rename('water') \n",
    "\n",
    "# Keep only the flood pixels. Remove all pixels equal to 0\n",
    "floodedAreas = floodMask.selfMask()"
   ]
  },
  {
   "cell_type": "code",
   "execution_count": 14,
   "metadata": {},
   "outputs": [],
   "source": [
    "# include JRC layer on surface water seasonality and occurrence to mask flood pixels from\n",
    "# areas of \"permanent\" water, i.e., where there is water > 10 months of the year\n",
    "      \n",
    "jrcGSW = ee.Image(\"JRC/GSW1_2/GlobalSurfaceWater\")\n",
    "waterBodies = jrcGSW.select('occurrence').clip(floodedDistricts)\n",
    "vis_waterBodies = {min:0, max:100, \"palette\": '#0D0887'}\n",
    "          \n",
    "Map.addLayer(**{\n",
    "    # mask waterBodies so as to not detect flood in the waterBodies.\n",
    "    # .divide(100) causes the opacity/transparency of the pixels to\n",
    "    # be set based on the waterBodies occurrence value.\n",
    "    \n",
    "    'ee_object': waterBodies.updateMask(waterBodies.divide(100)),\\\n",
    "    'name': \"Permanent water bodies (BLUE)\", \\\n",
    "    'vis_params': vis_waterBodies\n",
    "})"
   ]
  },
  {
   "cell_type": "code",
   "execution_count": 15,
   "metadata": {},
   "outputs": [],
   "source": [
    "seasonality = jrcGSW.select('seasonality')\n",
    "        \n",
    "# water > 10 months of the year, ( permanent water pixels) set mask = 1. \n",
    "# non-permanent water (flood) pixels = 0.\n",
    "# remove flood pixels\n",
    "permWater = seasonality.gte(10).selfMask()\n",
    "  \n",
    "# In the floodedAreas layer, assign all permanent water pixels = 0\n",
    "permWater_removed = floodedAreas.where(permWater,0)\n",
    "  \n",
    "# Remove all the permanent water present in the flooded layer.\n",
    "# floodedAreas layer has only flood pixels\n",
    "onlyFlooded = floodedAreas.updateMask(permWater_removed).selfMask()\n",
    " \n",
    "# Set minimum flood area in pixels = 3, approximately 0.25 ha\n",
    "minFloodPixels = ee.Number(3)\n",
    "  \n",
    "# Use connectedPixelCount() to get a contiguous area (>= 3 pixels)\n",
    "# Scale the results in nominal value based on the dataset's projection \n",
    "# to display on the map. Reprojecting with a specified scale ensures that \n",
    "# the pixel area does not change with zoom.\n",
    "prj = jrcGSW.projection()\n",
    "scale = prj.nominalScale()\n",
    "contFloodArea = onlyFlooded.connectedPixelCount(25) \\\n",
    "                      .reproject(prj.atScale(scale))\n",
    "                      \n",
    "# Apply the minimum area requirement.\n",
    "minFloodArea = contFloodArea.gte(minFloodPixels).selfMask() \\\n",
    "                    .reproject(prj.atScale(scale))\n",
    "  \n",
    "# Mask out areas with more than 5 percent slope using the DEM HydroSHEDS \n",
    "# Computing gradients require a fixed projection\n",
    "demHydroSHEDS = ee.Image(\"WWF/HydroSHEDS/03VFDEM\")\n",
    "terrain = ee.Algorithms.Terrain(demHydroSHEDS)\n",
    "slope = terrain.select('slope')\n",
    "finalFloodedArea = minFloodArea.updateMask(slope.lt(5))"
   ]
  },
  {
   "cell_type": "code",
   "execution_count": 16,
   "metadata": {},
   "outputs": [],
   "source": [
    "#---------------------------------------------\n",
    "#   Import as an Asset - imp_finalFloodedArea\n",
    "#---------------------------------------------\n",
    "imp_finalFloodedArea = ee.Image(\"users/namratas/FinalFloodedArea\")\n",
    "\n",
    "# Display the flooded areas\n",
    "Map.addLayer(imp_finalFloodedArea.clip(floodedDistricts), {'palette':\"red\", 'opacity': 0.99}, 'Flooded areas (RED)', 1);\n"
   ]
  },
  {
   "cell_type": "code",
   "execution_count": 17,
   "metadata": {},
   "outputs": [
    {
     "name": "stdout",
     "output_type": "stream",
     "text": [
      "Flooded Area size is 18474  ha\n"
     ]
    }
   ],
   "source": [
    "# Calculate the total flooded area (ha). Use pixelArea() to get the value of \n",
    "# each pixel in square metres, and sum over the result for a measure of area.\n",
    "floodedArea = imp_finalFloodedArea.multiply(ee.Image.pixelArea())\n",
    "\n",
    "floodedAreaSize = floodedArea.reduceRegion( **{\n",
    "      'reducer': ee.Reducer.sum(),\n",
    "      'geometry': floodedDistricts.geometry(),\n",
    "      'scale': 30, \n",
    "      'maxPixels': 1e13\n",
    "})\n",
    "\n",
    "# Convert the floodedAreaSize to hectares (area calculations are originally given in meters)\n",
    "# divide by 10,000 to convert to hectare\n",
    "floodedAreaSize = floodedAreaSize.getNumber('water') \\\n",
    "                        .divide(10000) \\\n",
    "                        .round()\n",
    "print('Flooded Area size is', floodedAreaSize.getInfo(), ' ha')"
   ]
  },
  {
   "cell_type": "code",
   "execution_count": 18,
   "metadata": {},
   "outputs": [],
   "source": [
    "#-------------------------------Affected Agricultural Land---------------------------------------------------------------------------\n",
    "\n",
    "imp_gfsad30_Cropland = ee.Image(\"users/namratas/gfsad30_Cropland_Dataset\") \n",
    "gfsad30 = imp_gfsad30_Cropland.clip(floodedDistricts)\n",
    "\n",
    "# Create a raster showing affected agricultural area in the flood layer\n",
    "onlyFloodedAgri = imp_finalFloodedArea.updateMask(gfsad30).selfMask()\n",
    "\n",
    "Map.addLayer(onlyFloodedAgri.select('water'), {'palette': '#2B5329'}, 'Affected Agricultural Land (GREEN)',1)\n",
    "\n",
    "prj = gfsad30.projection()\n",
    "scale = prj.nominalScale()\n",
    "  \n",
    "# Use connectedPixelCount() to get a contiguous area\n",
    "contFloodedAgriArea = onlyFloodedAgri.connectedPixelCount(25) \\\n",
    "                      .reproject(prj.atScale(scale))\n",
    "                      \n",
    "# Set minimum agricultural area = 6 pixels, i.e approximately 0.5 ha\n",
    "minAgriPixels = ee.Number(6)\n",
    "  \n",
    "floodedAgriArea = contFloodedAgriArea.gte(minAgriPixels).selfMask() \\\n",
    "                    .reproject(prj.atScale(scale))"
   ]
  },
  {
   "cell_type": "code",
   "execution_count": 19,
   "metadata": {},
   "outputs": [
    {
     "name": "stdout",
     "output_type": "stream",
     "text": [
      "Flooded Agricultural Area size is 15691  ha\n"
     ]
    }
   ],
   "source": [
    "affectedAgriArea = onlyFloodedAgri.multiply(ee.Image.pixelArea())\n",
    "  \n",
    "totalAffectedAgriLand = affectedAgriArea.reduceRegion( **{\n",
    "      'reducer': ee.Reducer.sum(),\n",
    "      'geometry': floodedDistricts.geometry(),\n",
    "      'scale': 30, \n",
    "      'maxPixels': 1e13\n",
    "})\n",
    "  \n",
    "# Convert the totalAffectedAgriLand to hectares (area calculations are originally given in meters)\n",
    "# divide by 10,000 to convert to hectare\n",
    "flooded_agriArea_hectares = ee.Number(totalAffectedAgriLand.get('water')) \\\n",
    "                                  .divide(10000) \\\n",
    "                                  .round()\n",
    "\n",
    "print('Flooded Agricultural Area size is', flooded_agriArea_hectares.getInfo(), ' ha')"
   ]
  },
  {
   "cell_type": "code",
   "execution_count": 20,
   "metadata": {},
   "outputs": [],
   "source": [
    "#-------------------------------Affected Population-------------------------------------------------------------------------------\n",
    "\n",
    "popDataset = ee.ImageCollection(\"WorldPop/POP\") \n",
    "  \n",
    "punjabPop  = popDataset \\\n",
    "             .filter(ee.Filter.equals('UNadj', 'no')) \\\n",
    "             .filter(ee.Filter.equals('year', 2015)) \\\n",
    "             .mosaic() \\\n",
    "             .clip(floodedDistricts)\n",
    "\n",
    "# Create a raster showing affected population using the flood layer\n",
    "affectedPopMask = punjabPop.updateMask(finalFloodedArea).selfMask()"
   ]
  },
  {
   "cell_type": "code",
   "execution_count": 21,
   "metadata": {},
   "outputs": [
    {
     "name": "stdout",
     "output_type": "stream",
     "text": [
      "Affected population -  116797\n"
     ]
    }
   ],
   "source": [
    "# ---------------------------------------------\n",
    "# Import as an Asset - imp_affectedPop\n",
    "# ---------------------------------------------\n",
    "\n",
    "imp_affectedPop = ee.Image(\"users/namratas/affectedPunjabPopulation\") \n",
    "\n",
    "# calculate stats\n",
    "affectedPop = imp_affectedPop.reduceRegion( **{\n",
    "    'reducer': ee.Reducer.sum(),\n",
    "    'geometry': floodedDistricts,\n",
    "    'scale': 100,\n",
    "    'maxPixels': 1e15\n",
    "  })\n",
    "  \n",
    "totalAffectedPop = ee.Number(affectedPop.get('population')).toInt()\n",
    "\n",
    "print('Affected population - ', totalAffectedPop.getInfo())"
   ]
  },
  {
   "cell_type": "code",
   "execution_count": 22,
   "metadata": {},
   "outputs": [
    {
     "data": {
      "application/vnd.jupyter.widget-view+json": {
       "model_id": "c51595811f184a6386d1346dc9df0954",
       "version_major": 2,
       "version_minor": 0
      },
      "text/plain": [
       "Map(center=[30.946658235946547, 75.4731802404629], controls=(ZoomControl(options=['position', 'zoom_in_text', …"
      ]
     },
     "metadata": {},
     "output_type": "display_data"
    }
   ],
   "source": [
    "legend_dict = {\n",
    "    'flooded areas': 'EB0000',\n",
    "    'affected agricultural area': '2B5329',\n",
    "    'permanent water bodies': '0D0887'\n",
    "}\n",
    "Map.add_legend(legend_title = 'Legend',legend_dict = legend_dict)\n",
    "Map"
   ]
  },
  {
   "cell_type": "code",
   "execution_count": null,
   "metadata": {},
   "outputs": [],
   "source": []
  }
 ],
 "metadata": {
  "kernelspec": {
   "display_name": "Python 3",
   "language": "python",
   "name": "python3"
  },
  "language_info": {
   "codemirror_mode": {
    "name": "ipython",
    "version": 3
   },
   "file_extension": ".py",
   "mimetype": "text/x-python",
   "name": "python",
   "nbconvert_exporter": "python",
   "pygments_lexer": "ipython3",
   "version": "3.6.8"
  }
 },
 "nbformat": 4,
 "nbformat_minor": 4
}
